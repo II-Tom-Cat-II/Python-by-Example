{
 "cells": [
  {
   "cell_type": "code",
   "execution_count": 2,
   "id": "0f3cf640",
   "metadata": {},
   "outputs": [
    {
     "name": "stdout",
     "output_type": "stream",
     "text": [
      "[[45, 37, 54], [62, 58, 59], [49, 47, 60], [78, 83, 62]]\n"
     ]
    }
   ],
   "source": [
    "grades = [[45,37,54],[62,58,59],[49,47,60],[78,83,62]]\n",
    "print(grades)"
   ]
  },
  {
   "cell_type": "code",
   "execution_count": 3,
   "id": "09fffe3d",
   "metadata": {},
   "outputs": [],
   "source": [
    "grades = [{\"Ma\":45,\"En\":37,\"Fr\":54},{\"Ma\":62,\"En\":58,\"Fr\":59},{\"Ma\":49,\"En\":47,\"Fr\":60}]"
   ]
  },
  {
   "cell_type": "code",
   "execution_count": 4,
   "id": "0dfb6559",
   "metadata": {},
   "outputs": [
    {
     "name": "stdout",
     "output_type": "stream",
     "text": [
      "[{'Ma': 45, 'En': 37, 'Fr': 54}, {'Ma': 62, 'En': 58, 'Fr': 59}, {'Ma': 49, 'En': 47, 'Fr': 60}]\n"
     ]
    }
   ],
   "source": [
    "print(grades)"
   ]
  },
  {
   "cell_type": "code",
   "execution_count": 30,
   "id": "aa77bbe6",
   "metadata": {},
   "outputs": [
    {
     "name": "stdout",
     "output_type": "stream",
     "text": [
      "58\n",
      "45\n",
      "62\n",
      "49\n"
     ]
    }
   ],
   "source": [
    "grades = {\"Susan\":{\"Ma\":45,\"En\":37,\"Fr\":54},\"Peter\":{\"Ma\":62,\"En\":58,\"Fr\":59},\"Jack\":{\"Ma\":49,\"En\":47,\"Fr\":60}}\n",
    "print(grades[\"Peter\"][\"En\"])\n",
    "\n",
    "for i in grades:\n",
    "    print(grades[i][\"Ma\"])"
   ]
  },
  {
   "cell_type": "code",
   "execution_count": 13,
   "id": "94f11d22",
   "metadata": {},
   "outputs": [
    {
     "name": "stdout",
     "output_type": "stream",
     "text": [
      "{'Ma': 45, 'En': 37, 'Fr': 54}\n"
     ]
    }
   ],
   "source": [
    "print(grades[\"Susan\"]) #prints grades from row 1"
   ]
  },
  {
   "cell_type": "code",
   "execution_count": 15,
   "id": "54474e36",
   "metadata": {},
   "outputs": [
    {
     "name": "stdout",
     "output_type": "stream",
     "text": [
      "{'Ma': 100, 'En': 37, 'Fr': 54}\n"
     ]
    }
   ],
   "source": [
    "grades[\"Susan\"][\"Ma\"] = 100   #Change the value in the designated column\n",
    "print(grades[\"Susan\"]) #prints grades from row 1"
   ]
  },
  {
   "cell_type": "code",
   "execution_count": 16,
   "id": "6716635d",
   "metadata": {},
   "outputs": [
    {
     "name": "stdout",
     "output_type": "stream",
     "text": [
      "100\n"
     ]
    }
   ],
   "source": [
    "print(grades[\"Susan\"][\"Ma\"])"
   ]
  },
  {
   "cell_type": "code",
   "execution_count": 21,
   "id": "6ad1fa74",
   "metadata": {},
   "outputs": [
    {
     "name": "stdout",
     "output_type": "stream",
     "text": [
      "[[45, 37, 54], [62, 58, 59, 100], [49, 47, 60], [78, 83, 62]]\n"
     ]
    }
   ],
   "source": [
    "grades = [[45,37,54],[62,58,59],[49,47,60],[78,83,62]]\n",
    "\n",
    "grades[1].append(100)  #adds a new value to the end of row 1\n",
    "print(grades)"
   ]
  },
  {
   "cell_type": "code",
   "execution_count": 32,
   "id": "0ac74249",
   "metadata": {},
   "outputs": [],
   "source": [
    "data = {\"A\":{\"x\":54,\"y\":82,\"z\":91},\"B\":{\"x\":75,\"y\":29,\"z\":80}}"
   ]
  },
  {
   "cell_type": "code",
   "execution_count": 25,
   "id": "cf63a819",
   "metadata": {},
   "outputs": [
    {
     "name": "stdout",
     "output_type": "stream",
     "text": [
      "{'x': 54, 'y': 82, 'z': 91}\n"
     ]
    }
   ],
   "source": [
    "print(data[\"A\"])"
   ]
  },
  {
   "cell_type": "code",
   "execution_count": 26,
   "id": "ecb632bf",
   "metadata": {},
   "outputs": [
    {
     "name": "stdout",
     "output_type": "stream",
     "text": [
      "29\n"
     ]
    }
   ],
   "source": [
    "print(data[\"B\"][\"y\"])"
   ]
  },
  {
   "cell_type": "code",
   "execution_count": 27,
   "id": "56044117",
   "metadata": {},
   "outputs": [
    {
     "name": "stdout",
     "output_type": "stream",
     "text": [
      "82\n",
      "29\n"
     ]
    }
   ],
   "source": [
    "for i in data:\n",
    "    print(data[i][\"y\"])"
   ]
  },
  {
   "cell_type": "code",
   "execution_count": 34,
   "id": "3998ff45",
   "metadata": {},
   "outputs": [],
   "source": [
    "data[\"B\"][\"y\"] = 53  #Change data in \"B\", \"y\" to 53"
   ]
  },
  {
   "cell_type": "code",
   "execution_count": 37,
   "id": "b1bdab96",
   "metadata": {},
   "outputs": [
    {
     "name": "stdout",
     "output_type": "stream",
     "text": [
      "{'Susan': {'Ma': 45, 'En': 37, 'Fr': 54}, 'Peter': {'Ma': 62, 'En': 58, 'Fr': 59}, 'Jack': {'Ma': 49, 'En': 47, 'Fr': 60}, 'Jennifer': {'Ma': 49, 'En': 80}}\n"
     ]
    }
   ],
   "source": [
    "grades[\"Jennifer\"]={\"Ma\":49,\"En\":80} #adds another row of data to the dictionary\n",
    "print(grades)"
   ]
  },
  {
   "cell_type": "code",
   "execution_count": 38,
   "id": "2a87f529",
   "metadata": {},
   "outputs": [
    {
     "name": "stdout",
     "output_type": "stream",
     "text": [
      "Susan 37\n",
      "Peter 58\n",
      "Jack 47\n",
      "Jennifer 80\n"
     ]
    }
   ],
   "source": [
    "for name in grades:\n",
    "    print((name),grades[name][\"En\"])\n",
    "    \n",
    "    #Displays only name and En grade for each students"
   ]
  },
  {
   "cell_type": "code",
   "execution_count": 39,
   "id": "bbe817f0",
   "metadata": {},
   "outputs": [
    {
     "ename": "NameError",
     "evalue": "name 'getRid' is not defined",
     "output_type": "error",
     "traceback": [
      "\u001b[1;31m---------------------------------------------------------------------------\u001b[0m",
      "\u001b[1;31mNameError\u001b[0m                                 Traceback (most recent call last)",
      "\u001b[1;32m<ipython-input-39-e3e8284f86c7>\u001b[0m in \u001b[0;36m<module>\u001b[1;34m\u001b[0m\n\u001b[1;32m----> 1\u001b[1;33m \u001b[1;32mdel\u001b[0m \u001b[0mlist\u001b[0m\u001b[1;33m[\u001b[0m\u001b[0mgetRid\u001b[0m\u001b[1;33m]\u001b[0m\u001b[1;33m\u001b[0m\u001b[1;33m\u001b[0m\u001b[0m\n\u001b[0m",
      "\u001b[1;31mNameError\u001b[0m: name 'getRid' is not defined"
     ]
    }
   ],
   "source": [
    "del list[getRid]"
   ]
  },
  {
   "cell_type": "code",
   "execution_count": 6,
   "id": "7e141b1d",
   "metadata": {},
   "outputs": [],
   "source": [
    "twodist = [[2,5,8],[3,7,4],[1,6,9],[4,2,0]]"
   ]
  },
  {
   "cell_type": "code",
   "execution_count": 8,
   "id": "8dec7982",
   "metadata": {},
   "outputs": [
    {
     "name": "stdout",
     "output_type": "stream",
     "text": [
      "Please select a row1\n",
      "Please select a column1\n",
      "7\n"
     ]
    }
   ],
   "source": [
    "row = int(input('Please select a row'))\n",
    "column = int(input('Please select a column'))\n",
    "print(twodist[row][column])"
   ]
  },
  {
   "cell_type": "code",
   "execution_count": 10,
   "id": "ec4998cb",
   "metadata": {},
   "outputs": [
    {
     "name": "stdout",
     "output_type": "stream",
     "text": [
      "Please select a row: 1\n",
      "[3, 7, 4, 100]\n",
      "Please enter a new value to the selected row: 9\n",
      "[3, 7, 4, 100, 9]\n"
     ]
    }
   ],
   "source": [
    "row = int(input('Please select a row: '))\n",
    "print(twodist[row])\n",
    "new = int(input('Please enter a new value to the selected row: '))\n",
    "twodist[row].append(new)\n",
    "print(twodist[row])"
   ]
  },
  {
   "cell_type": "code",
   "execution_count": 15,
   "id": "e803b5e8",
   "metadata": {},
   "outputs": [
    {
     "name": "stdout",
     "output_type": "stream",
     "text": [
      "Please select a row: 1\n",
      "[3, 53, 4, 100, 9]\n",
      "Please select a column: 0\n",
      "3\n",
      "do you want to change the value in the selected column? y/ny\n",
      "What value do you want to change to? 66\n",
      "[66, 53, 4, 100, 9]\n"
     ]
    }
   ],
   "source": [
    "row = int(input('Please select a row: '))\n",
    "print(twodist[row])\n",
    "col = int(input('Please select a column: '))\n",
    "print(twodist[row][col])\n",
    "change = input('do you want to change the value in the selected column? y/n ')\n",
    "if change == 'y':\n",
    "    newvalue = int(input('What value do you want to change to? '))\n",
    "    twodist[row][col] = newvalue\n",
    "    print(twodist[row])\n",
    "else:\n",
    "    print('confirmed')"
   ]
  },
  {
   "cell_type": "code",
   "execution_count": 18,
   "id": "d77c2db4",
   "metadata": {},
   "outputs": [
    {
     "name": "stdout",
     "output_type": "stream",
     "text": [
      "{'John': {'N': 3056, 'S': 8463, 'E': 8441, 'W': 2694}, 'Tom': {'N': 4832, 'S': 6786, 'E': 4737, 'W': 3612}, 'Anne': {'N': 5239, 'S': 4832, 'E': 5820, 'W': 1859}, 'Fiona': {'N': 3904, 'S': 3645, 'E': 8821, 'W': 2451}}\n"
     ]
    }
   ],
   "source": [
    "sales = {\"John\":{\"N\":3056,\"S\":8463,\"E\":8441,\"W\":2694},\"Tom\":{\"N\":4832,\"S\":6786,\"E\":4737,\"W\":3612},\"Anne\":{\"N\":5239,\"S\":4832,\"E\":5820,\"W\":1859},\"Fiona\":{\"N\":3904,\"S\":3645,\"E\":8821,\"W\":2451}}\n",
    "\n",
    "print(sales)"
   ]
  },
  {
   "cell_type": "code",
   "execution_count": 22,
   "id": "39378dad",
   "metadata": {},
   "outputs": [
    {
     "name": "stdout",
     "output_type": "stream",
     "text": [
      "Please enter the sale's name: Tom\n",
      "Which region do you wish to see? N\n",
      "9949\n",
      "Please enter the sale's name: Tom\n",
      "Which region do you wish to change? N\n",
      "Please enter a new value: 5575\n",
      "Tom 's regional sales data:  {'N': 5575, 'S': 6786, 'E': 4737, 'W': 3612}\n"
     ]
    }
   ],
   "source": [
    "name = input(\"Please enter the sale's name: \")\n",
    "region = input(\"Which region do you wish to see? \")\n",
    "\n",
    "print(sales[name][region])\n",
    "\n",
    "name = input(\"Please enter the sale's name: \")\n",
    "region = input(\"Which region do you wish to change? \")\n",
    "new = int(input(\"Please enter a new value: \"))\n",
    "sales[name][region] = new\n",
    "print(name,\"'s regional sales data: \",sales[name])"
   ]
  },
  {
   "cell_type": "code",
   "execution_count": 6,
   "id": "d1b57aaf",
   "metadata": {},
   "outputs": [
    {
     "name": "stdout",
     "output_type": "stream",
     "text": [
      "Enter name: Tom\n",
      "Enter age: 1\n",
      "Enter shoe size: 1\n",
      "Enter name: ff\n",
      "Wrong name!f\n",
      "Wrong name!f\n",
      "Wrong name!f\n",
      "Wrong name!f\n",
      "Wrong name!f\n",
      "Wrong name!Tom\n",
      "{'Age': 1, 'Shoe size': 1.0}\n"
     ]
    }
   ],
   "source": [
    "data = {}\n",
    "\n",
    "for i in range(0,1):\n",
    "    name = input(\"Enter name: \")\n",
    "    age = int(input(\"Enter age: \"))\n",
    "    shoe = float(input(\"Enter shoe size: \"))\n",
    "    data[name] ={\"Age\":age,\"Shoe size\":shoe}\n",
    "    \n",
    "ask = input(\"Enter name: \")\n",
    "try:\n",
    "    print(data[ask])\n",
    "except:\n",
    "    while True:\n",
    "        if ask in data:\n",
    "            print(data[ask])\n",
    "            break\n",
    "        else:\n",
    "            ask = input('Wrong name!')"
   ]
  },
  {
   "cell_type": "code",
   "execution_count": 10,
   "id": "f27da859",
   "metadata": {},
   "outputs": [
    {
     "name": "stdout",
     "output_type": "stream",
     "text": [
      "Enter name: Tom\n",
      "Enter age: 1\n",
      "Enter shoe size: 1\n",
      "Tom 1\n"
     ]
    }
   ],
   "source": [
    "### pay attention to the last 2 line\n",
    "\n",
    "data = {}\n",
    "\n",
    "for i in range(0,1):\n",
    "    name = input(\"Enter name: \")\n",
    "    age = int(input(\"Enter age: \"))\n",
    "    shoe = float(input(\"Enter shoe size: \"))\n",
    "    data[name] ={\"Age\":age,\"Shoe size\":shoe}\n",
    "\n",
    "for name in data:\n",
    "    print((name),data[name][\"Age\"])"
   ]
  },
  {
   "cell_type": "code",
   "execution_count": 14,
   "id": "8386f1cc",
   "metadata": {},
   "outputs": [
    {
     "name": "stdout",
     "output_type": "stream",
     "text": [
      "Enter name: Tom\n",
      "Enter age: 1\n",
      "Enter shoe size: 2\n",
      "Enter name: Roy\n",
      "Enter age: 3\n",
      "Enter shoe size: 4\n",
      "Enter name: Fin\n",
      "Enter age: 5\n",
      "Enter shoe size: 6\n",
      "Which name do you want to remove? Tom\n",
      "Roy 3 4.0\n",
      "Fin 5 6.0\n"
     ]
    }
   ],
   "source": [
    "data = {}\n",
    "\n",
    "for i in range(0,3):\n",
    "    name = input(\"Enter name: \")\n",
    "    age = int(input(\"Enter age: \"))\n",
    "    shoe = float(input(\"Enter shoe size: \"))\n",
    "    data[name] ={\"Age\":age,\"Shoe size\":shoe}\n",
    "    \n",
    "remove = input(\"Which name do you want to remove? \")\n",
    "del data[remove]\n",
    "\n",
    "for name in data:\n",
    "    print((name),data[name][\"Age\"],data[name][\"Shoe size\"])"
   ]
  },
  {
   "cell_type": "code",
   "execution_count": null,
   "id": "dffd8cd7",
   "metadata": {},
   "outputs": [],
   "source": []
  }
 ],
 "metadata": {
  "kernelspec": {
   "display_name": "Python 3 (ipykernel)",
   "language": "python",
   "name": "python3"
  },
  "language_info": {
   "codemirror_mode": {
    "name": "ipython",
    "version": 3
   },
   "file_extension": ".py",
   "mimetype": "text/x-python",
   "name": "python",
   "nbconvert_exporter": "python",
   "pygments_lexer": "ipython3",
   "version": "3.8.8"
  }
 },
 "nbformat": 4,
 "nbformat_minor": 5
}
