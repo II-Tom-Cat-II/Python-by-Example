{
 "cells": [
  {
   "cell_type": "markdown",
   "id": "1794ffea",
   "metadata": {},
   "source": [
    "Tuples are variables that can store multiple datas, the difference between tuples and lists is that datas in tuples cannot be modified. They are usually used for things like menus.\n",
    "\n",
    "Dictionaries can also have thier data modified while running. Each data is assigned an index that will not change even if other datas are modified or new data added, which makes it different than list where the index can change based other data entries or modifications."
   ]
  },
  {
   "cell_type": "code",
   "execution_count": 1,
   "id": "08493d66",
   "metadata": {},
   "outputs": [],
   "source": [
    "fruit_tuple = (\"apple\", \"banana\", \"strawberry\", \"orange\")"
   ]
  },
  {
   "cell_type": "code",
   "execution_count": 2,
   "id": "86a91bc4",
   "metadata": {},
   "outputs": [
    {
     "name": "stdout",
     "output_type": "stream",
     "text": [
      "2\n"
     ]
    }
   ],
   "source": [
    "print(fruit_tuple.index('strawberry'))"
   ]
  },
  {
   "cell_type": "code",
   "execution_count": 3,
   "id": "242d140b",
   "metadata": {},
   "outputs": [
    {
     "name": "stdout",
     "output_type": "stream",
     "text": [
      "strawberry\n"
     ]
    }
   ],
   "source": [
    "print(fruit_tuple[2])"
   ]
  },
  {
   "cell_type": "code",
   "execution_count": 4,
   "id": "29982421",
   "metadata": {},
   "outputs": [],
   "source": [
    "name_list = ['John','Tim','Sam']"
   ]
  },
  {
   "cell_type": "code",
   "execution_count": 5,
   "id": "d0a7a16e",
   "metadata": {},
   "outputs": [],
   "source": [
    "del name_list[1]"
   ]
  },
  {
   "cell_type": "code",
   "execution_count": 10,
   "id": "b88b1a9f",
   "metadata": {},
   "outputs": [
    {
     "name": "stdout",
     "output_type": "stream",
     "text": [
      "add a name:blueberry\n"
     ]
    }
   ],
   "source": [
    "name_list.append(input('add a name:'))"
   ]
  },
  {
   "cell_type": "code",
   "execution_count": 8,
   "id": "81f251c4",
   "metadata": {},
   "outputs": [],
   "source": [
    "name_list.sort()"
   ]
  },
  {
   "cell_type": "code",
   "execution_count": 11,
   "id": "585510a5",
   "metadata": {},
   "outputs": [
    {
     "name": "stdout",
     "output_type": "stream",
     "text": [
      "['John', 'Sam', 'blueberry', 'cranberry']\n"
     ]
    }
   ],
   "source": [
    "print(sorted(name_list))"
   ]
  },
  {
   "cell_type": "code",
   "execution_count": 12,
   "id": "4e0946ec",
   "metadata": {},
   "outputs": [],
   "source": [
    "colours = {1:\"red\", 2:\"blue\", 3:\"green\"}"
   ]
  },
  {
   "cell_type": "code",
   "execution_count": 13,
   "id": "cb74356f",
   "metadata": {},
   "outputs": [],
   "source": [
    "colours[2] = \"yellow\""
   ]
  },
  {
   "cell_type": "code",
   "execution_count": 14,
   "id": "844bd8c5",
   "metadata": {},
   "outputs": [],
   "source": [
    "x = [154,634,892,345,341,43]"
   ]
  },
  {
   "cell_type": "code",
   "execution_count": 15,
   "id": "eefb6a80",
   "metadata": {},
   "outputs": [
    {
     "name": "stdout",
     "output_type": "stream",
     "text": [
      "6\n"
     ]
    }
   ],
   "source": [
    "print(len(x))"
   ]
  },
  {
   "cell_type": "code",
   "execution_count": 17,
   "id": "c9ba3b3c",
   "metadata": {},
   "outputs": [
    {
     "name": "stdout",
     "output_type": "stream",
     "text": [
      "[634, 892, 345]\n"
     ]
    }
   ],
   "source": [
    "print(x[1:4])"
   ]
  },
  {
   "cell_type": "code",
   "execution_count": 18,
   "id": "bc01f9ed",
   "metadata": {},
   "outputs": [
    {
     "name": "stdout",
     "output_type": "stream",
     "text": [
      "154\n",
      "634\n",
      "892\n",
      "345\n",
      "341\n",
      "43\n"
     ]
    }
   ],
   "source": [
    "for i in x:\n",
    "    print(i)"
   ]
  },
  {
   "cell_type": "code",
   "execution_count": 21,
   "id": "bcd6aaf2",
   "metadata": {},
   "outputs": [
    {
     "name": "stdout",
     "output_type": "stream",
     "text": [
      "enter a number:2\n",
      "not in the list\n"
     ]
    }
   ],
   "source": [
    "num = int(input(\"enter a number:\"))\n",
    "if num in x:\n",
    "    print(num,\"is in the list\")\n",
    "else:\n",
    "    print(\"not in the list\")"
   ]
  },
  {
   "cell_type": "code",
   "execution_count": 22,
   "id": "aed8fc66",
   "metadata": {},
   "outputs": [],
   "source": [
    "x.insert(2,420)"
   ]
  },
  {
   "cell_type": "code",
   "execution_count": 23,
   "id": "b0da9a36",
   "metadata": {},
   "outputs": [],
   "source": [
    "x.remove(892)"
   ]
  },
  {
   "cell_type": "code",
   "execution_count": 24,
   "id": "4afec8cf",
   "metadata": {},
   "outputs": [],
   "source": [
    "x.append(993)"
   ]
  },
  {
   "cell_type": "code",
   "execution_count": 25,
   "id": "7847ecfb",
   "metadata": {},
   "outputs": [
    {
     "name": "stdout",
     "output_type": "stream",
     "text": [
      "[154, 634, 420, 345, 341, 43, 993]\n"
     ]
    }
   ],
   "source": [
    "print(x)"
   ]
  },
  {
   "cell_type": "code",
   "execution_count": 26,
   "id": "ab638fb0",
   "metadata": {},
   "outputs": [],
   "source": [
    "x.sort()"
   ]
  },
  {
   "cell_type": "code",
   "execution_count": 27,
   "id": "50b475c6",
   "metadata": {},
   "outputs": [
    {
     "name": "stdout",
     "output_type": "stream",
     "text": [
      "[43, 154, 341, 345, 420, 634, 993]\n"
     ]
    }
   ],
   "source": [
    "print(sorted(x))"
   ]
  },
  {
   "cell_type": "code",
   "execution_count": 34,
   "id": "3e1fc805",
   "metadata": {},
   "outputs": [
    {
     "name": "stdout",
     "output_type": "stream",
     "text": [
      "('USA', 'Japan', 'Korea', 'China', 'Russia')\n",
      "please select a country: USA\n",
      "Your selection is located at the 0 index\n"
     ]
    }
   ],
   "source": [
    "countries = ('USA','Japan','Korea','China','Russia')\n",
    "print(countries)\n",
    "select = input('please select a country: ')\n",
    "\n",
    "print(\"Your selection is located at the\",countries.index(select),\"index\")"
   ]
  },
  {
   "cell_type": "code",
   "execution_count": 37,
   "id": "9e510bfe",
   "metadata": {},
   "outputs": [
    {
     "name": "stdout",
     "output_type": "stream",
     "text": [
      "('USA', 'Japan', 'Korea', 'China', 'Russia')\n",
      "Please enter target index: 3\n",
      "Your selected index is:  China\n"
     ]
    }
   ],
   "source": [
    "countries = ('USA','Japan','Korea','China','Russia')\n",
    "print(countries)\n",
    "#select = input('please select a country: ')\n",
    "select = int(input('Please enter target index: '))\n",
    "#print(\"Your selection is located at the\",countries.index(select),\"index\")\n",
    "print(\"Your selected index is: \",countries[select])"
   ]
  },
  {
   "cell_type": "code",
   "execution_count": 40,
   "id": "dd05a284",
   "metadata": {},
   "outputs": [
    {
     "name": "stdout",
     "output_type": "stream",
     "text": [
      "What's your favourite sport? Volleyball\n",
      "Our current record is :  ['Volleyball', 'baseball', 'basketball']\n"
     ]
    }
   ],
   "source": [
    "sport = ['baseball','basketball']\n",
    "sport.append(input(\"What's your favourite sport? \"))\n",
    "sport.sort()\n",
    "print(\"Our current record is : \",sorted(sport))\n",
    "\n"
   ]
  },
  {
   "cell_type": "code",
   "execution_count": 1,
   "id": "4aac549a",
   "metadata": {},
   "outputs": [
    {
     "name": "stdout",
     "output_type": "stream",
     "text": [
      "Remove a subject you don't likeenglish\n",
      "['math', 'history', 'biology', 'physics', 'chemistry']\n"
     ]
    }
   ],
   "source": [
    "subjects = ['math','english','history','biology','physics','chemistry']\n",
    "\n",
    "subjects.remove(input(\"Remove a subject you don't like\"))\n",
    "\n",
    "print(subjects)"
   ]
  },
  {
   "cell_type": "code",
   "execution_count": 9,
   "id": "d1298314",
   "metadata": {},
   "outputs": [
    {
     "name": "stdout",
     "output_type": "stream",
     "text": [
      "What do you like to eat first? apple\n",
      "What do you like to eat second? orange\n",
      "What do you like to eat third? banana\n",
      "What do you like to eat fourth? pineapple\n",
      "Which of these food do you want to remove?1\n",
      "['banana', 'orange', 'pineapple']\n",
      "{2: 'orange', 3: 'banana', 4: 'pineapple'}\n"
     ]
    }
   ],
   "source": [
    "food = {1:\"\",2:\"\",3:\"\",4:\"\"}\n",
    "\n",
    "my_input1 = input('What do you like to eat first? ')\n",
    "food[1] = my_input1\n",
    "my_input2 = input('What do you like to eat second? ')\n",
    "food[2] = my_input2\n",
    "my_input3 = input('What do you like to eat third? ')\n",
    "food[3] = my_input3\n",
    "my_input4 = input('What do you like to eat fourth? ')\n",
    "food[4]= my_input4\n",
    "\n",
    "remove = int(input('Which of these food do you want to remove?'))\n",
    "del food[remove]\n",
    "print(sorted(food.values()))\n",
    "\n",
    "print(food)"
   ]
  },
  {
   "cell_type": "code",
   "execution_count": 11,
   "id": "295f93bc",
   "metadata": {},
   "outputs": [
    {
     "name": "stdout",
     "output_type": "stream",
     "text": [
      "Please pick a number between 0 and 4: 4\n",
      "Please pick a number between 5 and 9: 6\n",
      "['black', 'purple']\n"
     ]
    }
   ],
   "source": [
    "colors = ['red','white','blue','yellow','black','purple','orange',' pink','green','turquois']\n",
    "\n",
    "begin = int(input('Please pick a number between 0 and 4: '))\n",
    "end = int(input('Please pick a number between 5 and 9: '))\n",
    "\n",
    "print(colors[begin:end])"
   ]
  },
  {
   "cell_type": "code",
   "execution_count": 15,
   "id": "d2b1f5b5",
   "metadata": {},
   "outputs": [
    {
     "name": "stdout",
     "output_type": "stream",
     "text": [
      "352\n",
      "945\n",
      "124\n",
      "715\n",
      "Please enter a 3-digits number: 124\n",
      "124 is on the 2 position\n"
     ]
    }
   ],
   "source": [
    "x = [352,945,124,715]\n",
    "\n",
    "for i in x:\n",
    "    print(i)\n",
    "    \n",
    "num = int(input('Please enter a 3-digits number: '))\n",
    "\n",
    "if num in x:\n",
    "    print(num,'is at the',x.index(num),'position')\n",
    "else:\n",
    "    print('not on the list')"
   ]
  },
  {
   "cell_type": "code",
   "execution_count": 2,
   "id": "647344a4",
   "metadata": {},
   "outputs": [
    {
     "name": "stdout",
     "output_type": "stream",
     "text": [
      "Please input the guest name: Tom\n",
      "Please input the guest name: Jack\n",
      "Please input the guest name: Mary\n",
      "add more guests? y/n n\n",
      "There are 3 guests invited to the party.\n"
     ]
    }
   ],
   "source": [
    "guest_list = []\n",
    "\n",
    "for i in range(0,3):\n",
    "    \n",
    "    guest_list.append(input('Please input the guest name: '))\n",
    "\n",
    "con = input('add more guests? y/n ')\n",
    "while con == 'y':\n",
    "    if con == 'y':\n",
    "        guest_list.append(input('Please input the guest name: '))\n",
    "        con = input('add more guests? y/n ')\n",
    "print('There are',len(guest_list),'guests invited to the party.')"
   ]
  },
  {
   "cell_type": "code",
   "execution_count": 11,
   "id": "fe47f6a8",
   "metadata": {},
   "outputs": [
    {
     "name": "stdout",
     "output_type": "stream",
     "text": [
      "Please input the guest name: Tom\n",
      "Please input the guest name: Jack\n",
      "Please input the guest name: Mike\n",
      "add more guests? y/n n\n",
      "There are 3 guests invited to the party.\n",
      "Tom\n",
      "Jack\n",
      "Mike\n",
      "Please enter the guest you wish to search: Tom\n",
      "Tom is the first invited guest!\n",
      "Do you still wish to invite this guest? y/nn\n",
      "Tom has been removed from the list!\n",
      "Our current guest: \n",
      "Jack\n",
      "Mike\n"
     ]
    }
   ],
   "source": [
    "guest_list = []\n",
    "\n",
    "for i in range(0,3):\n",
    "    \n",
    "    guest_list.append(input('Please input the guest name: '))\n",
    "\n",
    "con = input('add more guests? y/n ')\n",
    "while con == 'y':\n",
    "    if con == 'y':\n",
    "        guest_list.append(input('Please input the guest name: '))\n",
    "        con = input('add more guests? y/n ')\n",
    "print('There are',len(guest_list),'guests invited to the party.')\n",
    "\n",
    "for i in guest_list:\n",
    "    print(i)\n",
    "    \n",
    "search = input('Please enter the guest you wish to search: ')\n",
    "x = guest_list.index(search) + 1\n",
    "\n",
    "if x == 1:\n",
    "    print(search, \"is the first invited guest!\")\n",
    "else:\n",
    "    print(search, \"is the\", x,\"th invited guest!\")\n",
    "    \n",
    "check = input(\"Do you still wish to invite this guest? y/n\")\n",
    "\n",
    "if check == \"y\":\n",
    "    print('confirmed')\n",
    "else:\n",
    "    guest_list.remove(search)\n",
    "    print(search,\"has been removed from the list!\")\n",
    "    \n",
    "print(\"Our current guest: \")\n",
    "for i in guest_list:\n",
    "    print(i)"
   ]
  },
  {
   "cell_type": "code",
   "execution_count": 18,
   "id": "03dc94dd",
   "metadata": {},
   "outputs": [
    {
     "name": "stdout",
     "output_type": "stream",
     "text": [
      "Current programs: \n",
      "Lost\n",
      "TSCC\n",
      "Fox 5\n",
      "MSNBC\n",
      "\n",
      "Please enter a program you wish to watch: Disney\n",
      "Please enter the order of the program8\n",
      "\n",
      "Current programs: \n",
      "Lost\n",
      "TSCC\n",
      "Fox 5\n",
      "MSNBC\n",
      "Disney\n"
     ]
    }
   ],
   "source": [
    "programs = ['Lost','TSCC','Fox 5','MSNBC']\n",
    "\n",
    "\n",
    "print('Current programs: ')\n",
    "for i in programs:\n",
    "    print(i)    \n",
    "\n",
    "print('')\n",
    "entry = input('Please enter a program you wish to watch: ')\n",
    "entry_plot = int(input('Please enter the order of the program: '))\n",
    "programs.insert(entry_plot,entry)\n",
    "print('')\n",
    "print('Current programs: ')\n",
    "for i in programs:\n",
    "    print(i)"
   ]
  },
  {
   "cell_type": "code",
   "execution_count": 24,
   "id": "79438fe3",
   "metadata": {},
   "outputs": [
    {
     "name": "stdout",
     "output_type": "stream",
     "text": [
      "Please enter a number4\n",
      "[4]\n",
      "Please enter a number5\n",
      "[4, 5]\n",
      "Please enter a number6\n",
      "[4, 5, 6]\n",
      "save the last entry? y/ny\n",
      "confirmed\n",
      "current entry: \n",
      "4\n",
      "5\n",
      "6\n"
     ]
    }
   ],
   "source": [
    "nums = []\n",
    "\n",
    "for i in range(0,3):\n",
    "    \n",
    "    entry = int(input('Please enter a number'))\n",
    "    nums.append(entry)\n",
    "    print(nums)\n",
    "save = input('save the last entry? y/n')\n",
    "if save == 'y':\n",
    "    print('entry confirmed')\n",
    "else:\n",
    "    nums.remove(entry)\n",
    "    print('entry removed')\n",
    "    \n",
    "print('current entry: ')\n",
    "for i in nums:    \n",
    "    print(i)"
   ]
  },
  {
   "cell_type": "code",
   "execution_count": null,
   "id": "6f8312cc",
   "metadata": {},
   "outputs": [],
   "source": []
  }
 ],
 "metadata": {
  "kernelspec": {
   "display_name": "Python 3",
   "language": "python",
   "name": "python3"
  },
  "language_info": {
   "codemirror_mode": {
    "name": "ipython",
    "version": 3
   },
   "file_extension": ".py",
   "mimetype": "text/x-python",
   "name": "python",
   "nbconvert_exporter": "python",
   "pygments_lexer": "ipython3",
   "version": "3.8.8"
  }
 },
 "nbformat": 4,
 "nbformat_minor": 5
}
