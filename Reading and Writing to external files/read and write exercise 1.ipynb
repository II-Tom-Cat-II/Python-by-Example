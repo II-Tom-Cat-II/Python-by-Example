{
 "cells": [
  {
   "cell_type": "code",
   "execution_count": 5,
   "id": "4f2414b7",
   "metadata": {},
   "outputs": [],
   "source": [
    "#Example code \n",
    "\n",
    "##  \"w\" write, \"r\" read, \"a\" append, \"x\" create\n",
    "\n",
    "file = open(\"Countries.txt\",\"w\")\n",
    "file.write(\"Italy\\n\")\n",
    "file.write(\"Germany\\n\")\n",
    "file.write(\"Spain\\n\")\n",
    "file.close()"
   ]
  },
  {
   "cell_type": "code",
   "execution_count": 9,
   "id": "cf16df6a",
   "metadata": {},
   "outputs": [
    {
     "name": "stdout",
     "output_type": "stream",
     "text": [
      "Italy\n",
      "Germany\n",
      "Spain\n",
      "France\n",
      "\n"
     ]
    }
   ],
   "source": [
    "#Example code\n",
    "\n",
    "file = open(\"Countries.txt\",\"r\")\n",
    "print(file.read())"
   ]
  },
  {
   "cell_type": "code",
   "execution_count": 8,
   "id": "763b02bc",
   "metadata": {},
   "outputs": [],
   "source": [
    "#Example code\n",
    "\n",
    "file = open(\"Countries.txt\",\"a\")\n",
    "file.write(\"France\\n\")\n",
    "file.close()   # if file.close() is not included, the write will not be saved"
   ]
  },
  {
   "cell_type": "markdown",
   "id": "29cc6097",
   "metadata": {},
   "source": [
    "Practices"
   ]
  },
  {
   "cell_type": "code",
   "execution_count": 14,
   "id": "58e7cc12",
   "metadata": {},
   "outputs": [
    {
     "ename": "SyntaxError",
     "evalue": "invalid syntax (Temp/ipykernel_18864/3136908498.py, line 2)",
     "output_type": "error",
     "traceback": [
      "\u001b[1;36m  File \u001b[1;32m\"C:\\Users\\chang\\AppData\\Local\\Temp/ipykernel_18864/3136908498.py\"\u001b[1;36m, line \u001b[1;32m2\u001b[0m\n\u001b[1;33m    file.write(\"4, \")\u001b[0m\n\u001b[1;37m    ^\u001b[0m\n\u001b[1;31mSyntaxError\u001b[0m\u001b[1;31m:\u001b[0m invalid syntax\n"
     ]
    }
   ],
   "source": [
    "file = open(\"numbers.txt\",\"w\"#\"x\")\n",
    "file.write(\"4, \")\n",
    "file.write(\"3, \")\n",
    "file.write(\"5, \")\n",
    "file.write(\"9, \")\n",
    "file.write(\"7, \")\n",
    "file.close()"
   ]
  },
  {
   "cell_type": "code",
   "execution_count": 15,
   "id": "dd82504b",
   "metadata": {},
   "outputs": [
    {
     "name": "stdout",
     "output_type": "stream",
     "text": [
      "4, 3, 5, 9, 7, \n"
     ]
    }
   ],
   "source": [
    "file = open(\"numbers.txt\",\"r\")\n",
    "print(file.read())"
   ]
  },
  {
   "cell_type": "code",
   "execution_count": 16,
   "id": "7f7d940b",
   "metadata": {},
   "outputs": [],
   "source": [
    "file = open(\"names.txt\",\"x\")\n",
    "file.write(\"Tom\\n\")\n",
    "file.write(\"Tommy\\n\")\n",
    "file.write(\"Jack\\n\")\n",
    "file.write(\"Jenny\\n\")\n",
    "file.write(\"Mary\\n\")\n",
    "file.close()"
   ]
  },
  {
   "cell_type": "code",
   "execution_count": 17,
   "id": "aeacb88e",
   "metadata": {},
   "outputs": [
    {
     "name": "stdout",
     "output_type": "stream",
     "text": [
      "Tom\n",
      "Tommy\n",
      "Jack\n",
      "Jenny\n",
      "Mary\n",
      "\n"
     ]
    }
   ],
   "source": [
    "file = open(\"names.txt\",\"r\")\n",
    "print(file.read())"
   ]
  },
  {
   "cell_type": "code",
   "execution_count": 19,
   "id": "84734bd9",
   "metadata": {},
   "outputs": [],
   "source": [
    "file = open(\"names.txt\",\"a\")\n",
    "file.write(\"Daniel\\n\")\n",
    "file.close()"
   ]
  },
  {
   "cell_type": "code",
   "execution_count": 20,
   "id": "e1305d80",
   "metadata": {},
   "outputs": [
    {
     "name": "stdout",
     "output_type": "stream",
     "text": [
      "Tom\n",
      "Tommy\n",
      "Jack\n",
      "Jenny\n",
      "Mary\n",
      "Daniel\n",
      "\n"
     ]
    }
   ],
   "source": [
    "file = open(\"names.txt\",\"r\")\n",
    "print(file.read())"
   ]
  },
  {
   "cell_type": "code",
   "execution_count": 29,
   "id": "8e5e763e",
   "metadata": {},
   "outputs": [
    {
     "name": "stdout",
     "output_type": "stream",
     "text": [
      "1) Create a new file\n",
      "2) Display the file\n",
      "3) Add a new item to the file\n",
      "Please make a selection: 3\n",
      "Please input a new subject: history\n"
     ]
    }
   ],
   "source": [
    "print(\"1) Create a new file\")\n",
    "print(\"2) Display the file\")\n",
    "print(\"3) Add a new item to the file\")\n",
    "\n",
    "sel = int(input(\"Please make a selection: \"))\n",
    "\n",
    "while True:\n",
    "    \n",
    "    if sel == 1:\n",
    "        name = input(\"Please enter a name for the file: \")\n",
    "        file = open(name,\"x\")\n",
    "        sub = input(\"Please enter a school subject: \")\n",
    "        file.write(sub)\n",
    "        file.close()\n",
    "        break\n",
    "    elif sel == 2:\n",
    "        file = open(name,\"r\")\n",
    "        print(file.read())\n",
    "        break\n",
    "    elif sel == 3:\n",
    "        file = open(name,\"a\")\n",
    "        appen = input(\"Please input a new subject: \")\n",
    "        file.write(\"\\n\")\n",
    "        file.write(appen)\n",
    "        file.close()\n",
    "        break\n",
    "    else:\n",
    "        print(\"wrong selection!\")\n",
    "        break"
   ]
  },
  {
   "cell_type": "code",
   "execution_count": 31,
   "id": "18a0399b",
   "metadata": {},
   "outputs": [
    {
     "name": "stdout",
     "output_type": "stream",
     "text": [
      "Tom\n",
      "Tommy\n",
      "Jack\n",
      "Jenny\n",
      "Mary\n",
      "Daniel\n",
      "\n"
     ]
    }
   ],
   "source": [
    "file = open(\"names.txt\",\"r\")\n",
    "print(file.read())\n",
    "\n",
    "remove = input(\"Please select a name to remove from the new file: \")\n",
    "\n",
    "if remove in file.read():\n",
    "    file2 = open(\"names2.txt\",\"x\")\n",
    "    "
   ]
  },
  {
   "cell_type": "code",
   "execution_count": 33,
   "id": "e1590d0d",
   "metadata": {},
   "outputs": [
    {
     "name": "stdout",
     "output_type": "stream",
     "text": [
      "Tom\n",
      "Tommy\n",
      "Jack\n",
      "Jenny\n",
      "Mary\n",
      "Daniel\n",
      "\n",
      "Enter a name from the list: Tom\n"
     ]
    }
   ],
   "source": [
    "## Need to come back on this one\n",
    "\n",
    "\n",
    "file = open(\"names.txt\",\"r\")\n",
    "print(file.read())\n",
    "file.close()\n",
    "\n",
    "file = open(\"names.txt\",\"r\")\n",
    "selectedname = input(\"Enter a name from the list: \")\n",
    "selectedname = selectedname + \"\\n\"\n",
    "for row in file:\n",
    "    if row != selectedname:\n",
    "        file = open(\"names2.txt\",\"a\")\n",
    "        newrecord = row\n",
    "        file.write(newrecord)\n",
    "        file.close()\n",
    "file.close()"
   ]
  },
  {
   "cell_type": "code",
   "execution_count": null,
   "id": "a5063cdb",
   "metadata": {},
   "outputs": [],
   "source": []
  }
 ],
 "metadata": {
  "kernelspec": {
   "display_name": "Python 3 (ipykernel)",
   "language": "python",
   "name": "python3"
  },
  "language_info": {
   "codemirror_mode": {
    "name": "ipython",
    "version": 3
   },
   "file_extension": ".py",
   "mimetype": "text/x-python",
   "name": "python",
   "nbconvert_exporter": "python",
   "pygments_lexer": "ipython3",
   "version": "3.8.8"
  }
 },
 "nbformat": 4,
 "nbformat_minor": 5
}
