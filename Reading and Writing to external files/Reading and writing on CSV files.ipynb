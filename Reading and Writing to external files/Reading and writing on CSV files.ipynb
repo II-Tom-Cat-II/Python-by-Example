{
 "cells": [
  {
   "cell_type": "markdown",
   "id": "f2d8ceb6",
   "metadata": {},
   "source": [
    "CSV stands for Comma Separated Values.\n",
    "\n",
    "CSV file has greater control over the data compare to simple text file."
   ]
  },
  {
   "cell_type": "code",
   "execution_count": 2,
   "id": "ade486c6",
   "metadata": {},
   "outputs": [],
   "source": [
    "#Example Codes\n",
    "\n",
    "import csv  #must be done at the top of code\n",
    "\n",
    "file = open(\"stars.csv\",\"w\")\n",
    "newrecord = \"Brian,73,Taurus\\n\"\n",
    "file.write(str(newrecord))\n",
    "file.close()\n"
   ]
  },
  {
   "cell_type": "code",
   "execution_count": 4,
   "id": "cb4ba711",
   "metadata": {},
   "outputs": [
    {
     "name": "stdout",
     "output_type": "stream",
     "text": [
      "Enter a name: Tom\n",
      "Enter age: 22\n",
      "Enter star sign: Aquarius\n"
     ]
    }
   ],
   "source": [
    "            \n",
    "file = open(\"stars.csv\",\"a\")\n",
    "name = input(\"Enter a name: \")\n",
    "age = input(\"Enter age: \")\n",
    "star = input(\"Enter star sign: \")\n",
    "newrecord = name + \",\" + age + \",\" + star + \"\\n\"\n",
    "file.write(str(newrecord))\n",
    "file.close()"
   ]
  },
  {
   "cell_type": "code",
   "execution_count": 5,
   "id": "0455cd09",
   "metadata": {},
   "outputs": [
    {
     "name": "stdout",
     "output_type": "stream",
     "text": [
      "Brian,73,Taurus\n",
      "\n",
      "Tom,22,Aquarius\n",
      "\n"
     ]
    }
   ],
   "source": [
    "file = open(\"stars.csv\",\"r\")\n",
    "for row in file:\n",
    "    print(row)"
   ]
  },
  {
   "cell_type": "code",
   "execution_count": 6,
   "id": "c876f390",
   "metadata": {},
   "outputs": [
    {
     "name": "stdout",
     "output_type": "stream",
     "text": [
      "['Tom', '22', 'Aquarius']\n"
     ]
    }
   ],
   "source": [
    "file = open(\"stars.csv\",\"r\")\n",
    "reader = csv.reader(file)\n",
    "rows = list(reader)\n",
    "print(rows[1])"
   ]
  },
  {
   "cell_type": "code",
   "execution_count": 8,
   "id": "61d33081",
   "metadata": {},
   "outputs": [
    {
     "name": "stdout",
     "output_type": "stream",
     "text": [
      "Enter the data you are searching for: Tom\n",
      "Tom,22,Aquarius\n",
      "\n"
     ]
    }
   ],
   "source": [
    "file = open (\"stars.csv\",\"r\")\n",
    "search = input(\"Enter the data you are searching for: \")\n",
    "reader = csv.reader(file)\n",
    "for row in file:\n",
    "    if search in str(row):\n",
    "        print(row)"
   ]
  },
  {
   "cell_type": "code",
   "execution_count": 10,
   "id": "425d2622",
   "metadata": {},
   "outputs": [],
   "source": [
    "import csv\n",
    "\n",
    "file= list(csv.reader(open(\"stars.csv\")))\n",
    "tmp = []\n",
    "for row in file:\n",
    "    tmp.append(row)\n",
    "\n",
    "## A csv file cannot be altered, only added to. If you need to alter it, you need to write it to a temporary list. This block of code will read the original .csv file and write it to a list called \n",
    "##\"tmp\". This can then be used and altered as a list."
   ]
  },
  {
   "cell_type": "code",
   "execution_count": 13,
   "id": "2c1d76b8",
   "metadata": {},
   "outputs": [],
   "source": [
    "file = open(\"newstars.csv\",\"w\")\n",
    "x = 0\n",
    "for row in tmp:\n",
    "    newrec = tmp[x][0]+\",\"+tmp[x][1]+tmp[x][2]+\"\\n\"\n",
    "    file.write(newrec)\n",
    "    x = x+1\n",
    "file.close()\n",
    "    \n",
    "## Writes from a list into a new csv file called \"newstars.csv\""
   ]
  },
  {
   "cell_type": "markdown",
   "id": "4dfd940d",
   "metadata": {},
   "source": [
    "Practices"
   ]
  },
  {
   "cell_type": "code",
   "execution_count": 14,
   "id": "3e2674e9",
   "metadata": {},
   "outputs": [],
   "source": [
    "import csv \n",
    "\n",
    "file = open(\"books.csv\",\"w\")\n",
    "newrecord = \"To kill a mockingbird, Harper Lee, 1960\\n\"\n",
    "file.write(str(newrecord))\n",
    "newrecord = \"A brief history of time, Stephen Hawking, 1988\\n\"\n",
    "file.write(str(newrecord))\n",
    "newrecord = \"The great gatsby, F. Scott Fitzgerald, 1922\\n\"\n",
    "file.write(str(newrecord))\n",
    "newrecord = \"The man who mistook his wife for a hat, Olive Sacks, 1985\\n\"\n",
    "file.write(str(newrecord))\n",
    "newrecord = \"Pride and Prejudice, Jane Austen, 1813\\n\"\n",
    "file.write(str(newrecord))\n",
    "file.close()"
   ]
  },
  {
   "cell_type": "code",
   "execution_count": null,
   "id": "81a55eb5",
   "metadata": {},
   "outputs": [],
   "source": [
    "import csv\n",
    "\n",
    "file = open(\"books.csv\",\"a\")\n",
    "book = input(\"Enter a book name: \")\n",
    "author = input(\"Enter the author's name: \")\n",
    "year = input(\"Enter the year released: \")\n",
    "\n",
    "new = book+\",\"+author+\",\"+year+\"\\n\"\n",
    "file.write(str(new))\n",
    "file.close()\n",
    "\n",
    "file = open(\"books.csv\",\"r\")\n",
    "for i in file:\n",
    "    print(file)"
   ]
  },
  {
   "cell_type": "code",
   "execution_count": 4,
   "id": "6587ebf5",
   "metadata": {},
   "outputs": [
    {
     "name": "stdout",
     "output_type": "stream",
     "text": [
      "Enter the start year: 1800\n",
      "Enter the ending year: 2005\n",
      "['To kill a mockingbird', ' Harper Lee', ' 1960']\n",
      "['A brief history of time', ' Stephen Hawking', ' 1988']\n",
      "['The great gatsby', ' F. Scott Fitzgerald', ' 1922']\n",
      "['The man who mistook his wife for a hat', ' Olive Sacks', ' 1985']\n",
      "['Pride and Prejudice', ' Jane Austen', ' 1813']\n",
      "[\"A Hitchhiker's Guide to The Galaxy\", 'Douglas Adams', '1978']\n"
     ]
    }
   ],
   "source": [
    "import csv\n",
    "\n",
    "start = int(input(\"Enter the start year: \"))\n",
    "end = int(input(\"Enter the ending year: \"))\n",
    "\n",
    "file = list(csv.reader(open(\"books.csv\")))\n",
    "tmp = []\n",
    "\n",
    "for i in file:\n",
    "    tmp.append(i)\n",
    "    \n",
    "x = 0\n",
    "for i in tmp:\n",
    "    if int(tmp[x][2]) >= start and int(tmp[x][2]) <=end:\n",
    "        print(tmp[x])\n",
    "    x = x+1"
   ]
  },
  {
   "cell_type": "code",
   "execution_count": 7,
   "id": "1f694797",
   "metadata": {},
   "outputs": [
    {
     "name": "stdout",
     "output_type": "stream",
     "text": [
      "Row 0: To kill a mockingbird, Harper Lee, 1960\n",
      "\n",
      "Row 1: A brief history of time, Stephen Hawking, 1988\n",
      "\n",
      "Row 2: The great gatsby, F. Scott Fitzgerald, 1922\n",
      "\n",
      "Row 3: The man who mistook his wife for a hat, Olive Sacks, 1985\n",
      "\n",
      "Row 4: Pride and Prejudice, Jane Austen, 1813\n",
      "\n",
      "Row 5: A Hitchhiker's Guide to The Galaxy,Douglas Adams,1978\n",
      "\n"
     ]
    }
   ],
   "source": [
    "import csv\n",
    "\n",
    "file = open(\"books.csv\",\"r\")\n",
    "x = 0\n",
    "for row in file:\n",
    "    display = \"Row \" + str(x) + \": \" + row\n",
    "    print(display)\n",
    "    x = x+1\n",
    "    "
   ]
  },
  {
   "cell_type": "code",
   "execution_count": 3,
   "id": "0be69c56",
   "metadata": {},
   "outputs": [
    {
     "name": "stdout",
     "output_type": "stream",
     "text": [
      "[['To kill a mockingbird', ' Harper Lee', ' 1960'], ['A brief history of time', ' Stephen Hawking', ' 1988'], ['The great gatsby', ' F. Scott Fitzgerald', ' 1922'], ['The man who mistook his wife for a hat', ' Olive Sacks', ' 1985'], ['Pride and Prejudice', ' Jane Austen', ' 1813'], [\"A Hitchhiker's Guide to The Galaxy\", 'Douglas Adams', '1978']]\n",
      "[['To kill a mockingbird', ' Harper Lee', ' 1960'], ['A brief history of time', ' Stephen Hawking', ' 1988'], ['The great gatsby', ' F. Scott Fitzgerald', ' 1922'], ['The man who mistook his wife for a hat', ' Olive Sacks', ' 1985'], ['Pride and Prejudice', ' Jane Austen', ' 1813'], [\"A Hitchhiker's Guide to The Galaxy\", 'Douglas Adams', '1978']]\n",
      "[['To kill a mockingbird', ' Harper Lee', ' 1960'], ['A brief history of time', ' Stephen Hawking', ' 1988'], ['The great gatsby', ' F. Scott Fitzgerald', ' 1922'], ['The man who mistook his wife for a hat', ' Olive Sacks', ' 1985'], ['Pride and Prejudice', ' Jane Austen', ' 1813'], [\"A Hitchhiker's Guide to The Galaxy\", 'Douglas Adams', '1978']]\n",
      "[['To kill a mockingbird', ' Harper Lee', ' 1960'], ['A brief history of time', ' Stephen Hawking', ' 1988'], ['The great gatsby', ' F. Scott Fitzgerald', ' 1922'], ['The man who mistook his wife for a hat', ' Olive Sacks', ' 1985'], ['Pride and Prejudice', ' Jane Austen', ' 1813'], [\"A Hitchhiker's Guide to The Galaxy\", 'Douglas Adams', '1978']]\n",
      "[['To kill a mockingbird', ' Harper Lee', ' 1960'], ['A brief history of time', ' Stephen Hawking', ' 1988'], ['The great gatsby', ' F. Scott Fitzgerald', ' 1922'], ['The man who mistook his wife for a hat', ' Olive Sacks', ' 1985'], ['Pride and Prejudice', ' Jane Austen', ' 1813'], [\"A Hitchhiker's Guide to The Galaxy\", 'Douglas Adams', '1978']]\n",
      "[['To kill a mockingbird', ' Harper Lee', ' 1960'], ['A brief history of time', ' Stephen Hawking', ' 1988'], ['The great gatsby', ' F. Scott Fitzgerald', ' 1922'], ['The man who mistook his wife for a hat', ' Olive Sacks', ' 1985'], ['Pride and Prejudice', ' Jane Austen', ' 1813'], [\"A Hitchhiker's Guide to The Galaxy\", 'Douglas Adams', '1978']]\n"
     ]
    }
   ],
   "source": [
    "import csv\n",
    "\n",
    "file = list(csv.reader(open(\"books.csv\")))\n",
    "\n",
    "tmp = []            \n",
    "\n",
    "for i in file:\n",
    "    tmp.append(i)\n",
    "\n",
    "for i in tmp:\n",
    "    print(tmp)"
   ]
  },
  {
   "cell_type": "code",
   "execution_count": 4,
   "id": "dd6b76a7",
   "metadata": {},
   "outputs": [
    {
     "name": "stdout",
     "output_type": "stream",
     "text": [
      "Row: 0-To kill a mockingbird, Harper Lee, 1960\n",
      "\n",
      "Row: 1-A brief history of time, Stephen Hawking, 1988\n",
      "\n",
      "Row: 2-The great gatsby, F. Scott Fitzgerald, 1922\n",
      "\n",
      "Row: 3-The man who mistook his wife for a hat, Olive Sacks, 1985\n",
      "\n",
      "Row: 4-Pride and Prejudice, Jane Austen, 1813\n",
      "\n",
      "Row: 5-A Hitchhiker's Guide to The Galaxy,Douglas Adams,1978\n",
      "\n"
     ]
    }
   ],
   "source": [
    "import csv\n",
    "\n",
    "file = open(\"books.csv\",\"r\")\n",
    "x = 0\n",
    "for row in file:\n",
    "    display = \"Row: \" + str(x) + \"-\" + row\n",
    "    print(display)\n",
    "    x = x+1\n"
   ]
  },
  {
   "cell_type": "code",
   "execution_count": 6,
   "id": "5f6a6ef1",
   "metadata": {},
   "outputs": [
    {
     "name": "stdout",
     "output_type": "stream",
     "text": [
      "(0, ['To kill a mockingbird', ' Harper Lee', ' 1960'])\n",
      "(1, ['A brief history of time', ' Stephen Hawking', ' 1988'])\n",
      "(2, ['The great gatsby', ' F. Scott Fitzgerald', ' 1922'])\n",
      "(3, ['The man who mistook his wife for a hat', ' Olive Sacks', ' 1985'])\n",
      "(4, ['Pride and Prejudice', ' Jane Austen', ' 1813'])\n",
      "(5, [\"A Hitchhiker's Guide to The Galaxy\", 'Douglas Adams', '1978'])\n",
      "Enter a row number to delete: 0\n",
      "(0, ['A brief history of time', ' Stephen Hawking', ' 1988'])\n",
      "(1, ['The great gatsby', ' F. Scott Fitzgerald', ' 1922'])\n",
      "(2, ['The man who mistook his wife for a hat', ' Olive Sacks', ' 1985'])\n",
      "(3, ['Pride and Prejudice', ' Jane Austen', ' 1813'])\n",
      "(4, [\"A Hitchhiker's Guide to The Galaxy\", 'Douglas Adams', '1978'])\n",
      "Enter a row number to alter: 0\n",
      "(0, 'A brief history of time')\n",
      "(1, ' Stephen Hawking')\n",
      "(2, ' 1988')\n",
      "Which part do you want to change: 1\n",
      "Enter new data: A Brief History of Time\n",
      "['A brief history of time', 'A Brief History of Time', ' 1988']\n"
     ]
    }
   ],
   "source": [
    "import csv\n",
    "\n",
    "file = list(csv.reader(open(\"books.csv\")))\n",
    "booklist = []\n",
    "for row in file:\n",
    "    booklist.append(row)\n",
    "\n",
    "x = 0\n",
    "for row in booklist:\n",
    "    display = x, booklist[x]\n",
    "    print(display)\n",
    "    x = x+1\n",
    "getrid = int(input(\"Enter a row number to delete: \"))\n",
    "del booklist[getrid]\n",
    "\n",
    "x = 0\n",
    "\n",
    "for row in booklist:\n",
    "    display = x,booklist[x]\n",
    "    print(display)\n",
    "    x = x + 1\n",
    "alter = int(input(\"Enter a row number to alter: \"))\n",
    "x = 0\n",
    "for row in booklist[alter]:\n",
    "    display = x,booklist[alter][x]\n",
    "    print(display)\n",
    "    x = x+1\n",
    "part = int(input(\"Which part do you want to change: \"))\n",
    "newdata = input(\"Enter new data: \")\n",
    "booklist[alter][part] = newdata\n",
    "print(booklist[alter])\n",
    "\n",
    "file = open(\"books.csv\",\"w\")\n",
    "x = 0\n",
    "for row in booklist:\n",
    "    newrecord = booklist[x][0] + \", \" + booklist[x][1] + \", \" + booklist[x][2] + \"\\n\"\n",
    "    file.write(newrecord)\n",
    "    x = x + 1\n",
    "file.close()"
   ]
  },
  {
   "cell_type": "code",
   "execution_count": 7,
   "id": "a37b5d66",
   "metadata": {},
   "outputs": [
    {
     "name": "stdout",
     "output_type": "stream",
     "text": [
      "What's your name: Tom\n",
      "28 + 24 = 52\n",
      "28 + 24 = 52\n"
     ]
    }
   ],
   "source": [
    "import csv\n",
    "import random\n",
    "\n",
    "score = 0\n",
    "name = input(\"What's your name: \")\n",
    "\n",
    "q1_num1 = random.randint(10,50)\n",
    "q1_num2 = random.randint(10,50)\n",
    "question1 = str(q1_num1) + \" + \" + str(q1_num2) + \" = \"\n",
    "ans1 = int(input(question1))\n",
    "realans1 = q1_num1+q1_num2\n",
    "if ans1 == realans1:\n",
    "    score = score + 1\n",
    "    \n",
    "q2_num1 = random.randint(10,50)\n",
    "q2_num2 = random.randint(10,50)\n",
    "question2 = str(q2_num1) + \" + \" + str(q2_num2) + \" = \"\n",
    "ans2 = int(input(question1))\n",
    "realans2 = q2_num1+q2_num2\n",
    "if ans2 == realans2:\n",
    "    score = score + 1\n",
    "    \n",
    "    \n",
    "file = open(\"quizscore.csv\",\"a\")\n",
    "newrecord = name + \",\" + question1+ \",\"+str(ans1)+\",\"+question2+\",\"+str(ans2)+\",\"+str(score)+\"\\n\"\n",
    "\n",
    "file.write(str(newrecord))\n",
    "\n",
    "file.close()"
   ]
  },
  {
   "cell_type": "code",
   "execution_count": null,
   "id": "b498ba96",
   "metadata": {},
   "outputs": [],
   "source": []
  }
 ],
 "metadata": {
  "kernelspec": {
   "display_name": "Python 3",
   "language": "python",
   "name": "python3"
  },
  "language_info": {
   "codemirror_mode": {
    "name": "ipython",
    "version": 3
   },
   "file_extension": ".py",
   "mimetype": "text/x-python",
   "name": "python",
   "nbconvert_exporter": "python",
   "pygments_lexer": "ipython3",
   "version": "3.8.8"
  }
 },
 "nbformat": 4,
 "nbformat_minor": 5
}
