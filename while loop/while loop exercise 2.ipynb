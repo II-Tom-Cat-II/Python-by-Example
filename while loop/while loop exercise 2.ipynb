{
 "cells": [
  {
   "cell_type": "code",
   "execution_count": 2,
   "id": "d6497d76",
   "metadata": {},
   "outputs": [
    {
     "name": "stdout",
     "output_type": "stream",
     "text": [
      "please input a number under 50 30\n",
      "the total is 30\n",
      "please input a number under 50 40\n",
      "the total is 70\n"
     ]
    }
   ],
   "source": [
    "total = 0\n",
    "\n",
    "while total <= 50:\n",
    "    num = int(input('please input a number under 50 '))\n",
    "    total = total + num\n",
    "    print('the total is',total)"
   ]
  },
  {
   "cell_type": "code",
   "execution_count": 1,
   "id": "2acd9877",
   "metadata": {},
   "outputs": [
    {
     "name": "stdout",
     "output_type": "stream",
     "text": [
      "please enter a number1\n",
      "please enter a number1\n",
      "please enter a number1\n",
      "please enter a number1\n",
      "please enter a number2\n",
      "please enter a number2\n",
      "please enter a number5\n",
      "please enter a number6\n",
      "the last number you entered was  6\n"
     ]
    }
   ],
   "source": [
    "num = 0\n",
    "\n",
    "while num <= 5:\n",
    "    num = int(input('please enter a number'))\n",
    "print('the last number you entered was ', num)"
   ]
  },
  {
   "cell_type": "code",
   "execution_count": 7,
   "id": "71e2043b",
   "metadata": {},
   "outputs": [
    {
     "name": "stdout",
     "output_type": "stream",
     "text": [
      "enter a number: 6\n",
      "Enter another number: 7\n",
      "do you want to add another number? y/n y\n",
      "Enter another number: 7\n",
      "do you want to add another number? y/n y\n",
      "Enter another number: 8\n",
      "do you want to add another number? y/n y\n",
      "Enter another number: 54\n",
      "do you want to add another number? y/n n\n",
      "the total is  82\n"
     ]
    }
   ],
   "source": [
    "num1 = int(input('enter a number: '))\n",
    "total = num1\n",
    "again = 'y'\n",
    "\n",
    "while again == 'y':\n",
    "    num2 = int(input('Enter another number: '))\n",
    "    total = total + num2\n",
    "    again = input('do you want to add another number? y/n ')\n",
    "print('the total is ',total)"
   ]
  },
  {
   "cell_type": "code",
   "execution_count": 15,
   "id": "317fbe0d",
   "metadata": {},
   "outputs": [
    {
     "name": "stdout",
     "output_type": "stream",
     "text": [
      "Please enter a guest name : Tom\n",
      "Tom has been invited\n",
      "add more guest? y/n n\n",
      "Total guest invited :  1\n"
     ]
    }
   ],
   "source": [
    "gst_count = 0\n",
    "again = 'y'\n",
    "\n",
    "while again == 'y':\n",
    "    guest = input('Please enter a guest name : ')\n",
    "    gst_count = gst_count + 1\n",
    "    print(guest, 'has been invited')\n",
    "    again = input('add more guest? y/n ')\n",
    "print('Total guest invited : ', gst_count)"
   ]
  },
  {
   "cell_type": "code",
   "execution_count": 18,
   "id": "50e47b64",
   "metadata": {},
   "outputs": [
    {
     "name": "stdout",
     "output_type": "stream",
     "text": [
      "Please guess the number! 50\n",
      "you got it! It only took you 1 to get it!\n"
     ]
    }
   ],
   "source": [
    "compnum = 50\n",
    "guess = int(input('Please guess the number! '))\n",
    "gs_attpt = 1\n",
    "while guess != 50:\n",
    "    if guess >= 50:\n",
    "        print('too high!')\n",
    "    elif guess <= 50:\n",
    "        print('too low!')\n",
    "    guess = int(input('Please guess the number! '))\n",
    "    gs_attpt = gs_attpt + 1\n",
    "        \n",
    "print('you got it! It only took you', gs_attpt,'to get it!')"
   ]
  },
  {
   "cell_type": "code",
   "execution_count": 20,
   "id": "02169443",
   "metadata": {},
   "outputs": [
    {
     "name": "stdout",
     "output_type": "stream",
     "text": [
      "enter a number between 10 to 20: 9\n",
      "too low!\n",
      "enter a number between 10 to 20: 9\n",
      "too low!\n",
      "enter a number between 10 to 20: 2\n",
      "too low!\n",
      "enter a number between 10 to 20: 10\n",
      "Thanks!\n"
     ]
    }
   ],
   "source": [
    "num = int(input('enter a number between 10 to 20: '))\n",
    "\n",
    "while num < 10 or num > 20:\n",
    "    if num < 10:\n",
    "        print('too low!')\n",
    "    elif num > 20:\n",
    "        print('too high!')\n",
    "    num = int(input('enter a number between 10 to 20: '))\n",
    "print('Thanks!')"
   ]
  },
  {
   "cell_type": "code",
   "execution_count": 2,
   "id": "39e10fd6",
   "metadata": {},
   "outputs": [
    {
     "name": "stdout",
     "output_type": "stream",
     "text": [
      "There are 10 green bottles hanging on the wall\n",
      "10 hanging on the wall.\n",
      "And if 1 green bottle should accidentally fall,\n",
      "How many green bottles will be hanging on the wall?8\n",
      "No! Try again!!9\n",
      "There are 9 green bottles hanging on the wall\n",
      "9 hanging on the wall.\n",
      "And if 1 green bottle should accidentally fall,\n",
      "How many green bottles will be hanging on the wall?8\n",
      "There will be 8 green bottles hanging on the wall.\n",
      "There are 8 green bottles hanging on the wall\n",
      "8 hanging on the wall.\n",
      "And if 1 green bottle should accidentally fall,\n",
      "How many green bottles will be hanging on the wall?7\n",
      "There will be 7 green bottles hanging on the wall.\n",
      "There are 7 green bottles hanging on the wall\n",
      "7 hanging on the wall.\n",
      "And if 1 green bottle should accidentally fall,\n",
      "How many green bottles will be hanging on the wall?6\n",
      "There will be 6 green bottles hanging on the wall.\n",
      "There are 6 green bottles hanging on the wall\n",
      "6 hanging on the wall.\n",
      "And if 1 green bottle should accidentally fall,\n",
      "How many green bottles will be hanging on the wall?5\n",
      "There will be 5 green bottles hanging on the wall.\n",
      "There are 5 green bottles hanging on the wall\n",
      "5 hanging on the wall.\n",
      "And if 1 green bottle should accidentally fall,\n",
      "How many green bottles will be hanging on the wall?4\n",
      "There will be 4 green bottles hanging on the wall.\n",
      "There are 4 green bottles hanging on the wall\n",
      "4 hanging on the wall.\n",
      "And if 1 green bottle should accidentally fall,\n",
      "How many green bottles will be hanging on the wall?3\n",
      "There will be 3 green bottles hanging on the wall.\n",
      "There are 3 green bottles hanging on the wall\n",
      "3 hanging on the wall.\n",
      "And if 1 green bottle should accidentally fall,\n",
      "How many green bottles will be hanging on the wall?2\n",
      "There will be 2 green bottles hanging on the wall.\n",
      "There are 2 green bottles hanging on the wall\n",
      "2 hanging on the wall.\n",
      "And if 1 green bottle should accidentally fall,\n",
      "How many green bottles will be hanging on the wall?1\n",
      "There will be 1 green bottles hanging on the wall.\n",
      "There are 1 green bottles hanging on the wall\n",
      "1 hanging on the wall.\n",
      "And if 1 green bottle should accidentally fall,\n",
      "How many green bottles will be hanging on the wall?0\n",
      "There will be 0 green bottles hanging on the wall.\n",
      "There are no more green bottles hanging on the wall!\n"
     ]
    }
   ],
   "source": [
    "grn_bot = 10\n",
    "while grn_bot >0:\n",
    "    print('There are', grn_bot,'green bottles hanging on the wall')\n",
    "    print(grn_bot,'hanging on the wall.')\n",
    "    print('And if 1 green bottle should accidentally fall,')\n",
    "    grn_bot = grn_bot - 1\n",
    "    ask = int(input('How many green bottles will be hanging on the wall?'))\n",
    "    if ask == grn_bot:\n",
    "        print('There will be',grn_bot,'green bottles hanging on the wall.')\n",
    "    else:\n",
    "        while ask != grn_bot:\n",
    "            ask = int(input('No! Try again!!'))\n",
    "\n",
    "print('There are no more green bottles hanging on the wall!')"
   ]
  },
  {
   "cell_type": "code",
   "execution_count": null,
   "id": "adc8f8ac",
   "metadata": {},
   "outputs": [],
   "source": []
  }
 ],
 "metadata": {
  "kernelspec": {
   "display_name": "Python 3",
   "language": "python",
   "name": "python3"
  },
  "language_info": {
   "codemirror_mode": {
    "name": "ipython",
    "version": 3
   },
   "file_extension": ".py",
   "mimetype": "text/x-python",
   "name": "python",
   "nbconvert_exporter": "python",
   "pygments_lexer": "ipython3",
   "version": "3.8.8"
  }
 },
 "nbformat": 4,
 "nbformat_minor": 5
}
