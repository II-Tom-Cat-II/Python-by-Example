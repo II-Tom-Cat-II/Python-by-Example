{
 "cells": [
  {
   "cell_type": "markdown",
   "id": "292a395a",
   "metadata": {},
   "source": [
    "Example Code"
   ]
  },
  {
   "cell_type": "code",
   "execution_count": 2,
   "id": "75a9639d",
   "metadata": {},
   "outputs": [
    {
     "name": "stdout",
     "output_type": "stream",
     "text": [
      "Enter a number: 1\n",
      "Enter a number: 1\n",
      "Enter a number: 1\n",
      "Enter a number: 1\n",
      "Enter a number: 1\n",
      "Enter a number: 1\n",
      "Enter a number: 1\n",
      "Enter a number: 1\n",
      "Enter a number: 1\n",
      "Enter a number: 20\n",
      "Enter a number: 30\n",
      "Enter a number: 40\n",
      "Enter a number: 50\n",
      "The total is 149\n"
     ]
    }
   ],
   "source": [
    "total = 0\n",
    "while total < 100:\n",
    "    num = int(input('Enter a number: '))\n",
    "    total = total + num\n",
    "print('The total is', total)"
   ]
  },
  {
   "cell_type": "code",
   "execution_count": null,
   "id": "81edfcd8",
   "metadata": {},
   "outputs": [],
   "source": []
  }
 ],
 "metadata": {
  "kernelspec": {
   "display_name": "Python 3 (ipykernel)",
   "language": "python",
   "name": "python3"
  },
  "language_info": {
   "codemirror_mode": {
    "name": "ipython",
    "version": 3
   },
   "file_extension": ".py",
   "mimetype": "text/x-python",
   "name": "python",
   "nbconvert_exporter": "python",
   "pygments_lexer": "ipython3",
   "version": "3.8.8"
  }
 },
 "nbformat": 4,
 "nbformat_minor": 5
}
