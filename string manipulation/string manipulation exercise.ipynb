{
 "cells": [
  {
   "cell_type": "code",
   "execution_count": 7,
   "id": "c20eb08f",
   "metadata": {},
   "outputs": [
    {
     "name": "stdout",
     "output_type": "stream",
     "text": [
      "Please enter an uppercase word: Tom\n",
      "This is not in uppercase\n"
     ]
    }
   ],
   "source": [
    "##Uppercase check\n",
    "\n",
    "msg = input('Please enter an uppercase word: ')\n",
    "\n",
    "if msg.isupper():\n",
    "    print(\"Uppercase\")\n",
    "else:\n",
    "    print(\"This is not in uppercase\")"
   ]
  },
  {
   "cell_type": "code",
   "execution_count": 8,
   "id": "fad30d6f",
   "metadata": {},
   "outputs": [
    {
     "name": "stdout",
     "output_type": "stream",
     "text": [
      "please enter an uppercase word: tom\n",
      "Lowercase\n"
     ]
    }
   ],
   "source": [
    "#Lowercase check\n",
    "\n",
    "msg = input('please enter an uppercase word: ')\n",
    "\n",
    "if msg.islower():\n",
    "    print('Lowercase')\n",
    "else:\n",
    "    print('This is not in lowercase')"
   ]
  },
  {
   "cell_type": "code",
   "execution_count": 9,
   "id": "029673f2",
   "metadata": {},
   "outputs": [
    {
     "name": "stdout",
     "output_type": "stream",
     "text": [
      "please enter a word: Tom\n",
      "T*o*m*"
     ]
    }
   ],
   "source": [
    "#Add specified string to each letter's end\n",
    "\n",
    "msg = input('please enter a word: ')\n",
    "\n",
    "for letter in msg:\n",
    "    print(letter, end = \"*\")"
   ]
  },
  {
   "cell_type": "code",
   "execution_count": 15,
   "id": "13feb815",
   "metadata": {},
   "outputs": [
    {
     "name": "stdout",
     "output_type": "stream",
     "text": [
      "Please enter your first name: Tom\n",
      "3\n",
      "Please enter your last name: Cat\n",
      "3\n",
      "Name : Tom Cat\n",
      "6\n"
     ]
    }
   ],
   "source": [
    "fn = input('Please enter your first name: ')\n",
    "print(len(fn))\n",
    "ln = input('Please enter your last name: ')\n",
    "print(len(ln))\n",
    "fun = len(fn)+len(ln)\n",
    "print('Name :',fn, ln)\n",
    "print(fun)  #display the full name"
   ]
  },
  {
   "cell_type": "code",
   "execution_count": 16,
   "id": "19fe9f75",
   "metadata": {},
   "outputs": [
    {
     "name": "stdout",
     "output_type": "stream",
     "text": [
      "What's your favourite subject? math\n",
      "m-a-t-h-"
     ]
    }
   ],
   "source": [
    "sub = input(\"What's your favourite subject? \")\n",
    "\n",
    "for i in sub:\n",
    "    print(i,end = \"-\")"
   ]
  },
  {
   "cell_type": "code",
   "execution_count": 21,
   "id": "c7ab4661",
   "metadata": {},
   "outputs": [
    {
     "name": "stdout",
     "output_type": "stream",
     "text": [
      "What lies beyond the furthest reach of the sky?\n",
      "\n",
      "please enter the starting slot: 4\n",
      "please enter the ending slot: 10\n",
      "\n",
      " lies \n"
     ]
    }
   ],
   "source": [
    "print('What lies beyond the furthest reach of the sky')\n",
    "print('')\n",
    "x = 'What lies beyond the furthest reach of the sky?'\n",
    "cut = int(input('please enter the starting slot: '))\n",
    "cut_end = int(input('please enter the ending slot: '))\n",
    "\n",
    "print('')\n",
    "print(x[cut:cut_end])"
   ]
  },
  {
   "cell_type": "code",
   "execution_count": 24,
   "id": "c53ac8f3",
   "metadata": {},
   "outputs": [
    {
     "name": "stdout",
     "output_type": "stream",
     "text": [
      "PLEASE ENTER A UPPERCASE WORD: TOM\n",
      "THANKS!!\n"
     ]
    }
   ],
   "source": [
    "up = input('PLEASE ENTER A UPPERCASE WORD: ')\n",
    "\n",
    "\n",
    "while up.isupper() == False:\n",
    "    up = input('I SAID TYPE A #@$#@^ UPPERCASE WORD!! ')\n",
    "\n",
    "print('THANKS!!')"
   ]
  },
  {
   "cell_type": "code",
   "execution_count": 28,
   "id": "72c2561f",
   "metadata": {},
   "outputs": [
    {
     "name": "stdout",
     "output_type": "stream",
     "text": [
      "please enter your postcode: hello world\n",
      "\n",
      "HE\n"
     ]
    }
   ],
   "source": [
    "postcode = input('please enter your postcode: ')\n",
    "x = postcode[0:2]\n",
    "print('')\n",
    "print(x.upper())"
   ]
  },
  {
   "cell_type": "code",
   "execution_count": 33,
   "id": "39fd91a6",
   "metadata": {},
   "outputs": [
    {
     "name": "stdout",
     "output_type": "stream",
     "text": [
      "please enter your name: Tommy\n",
      "There is a vowel in your name!\n"
     ]
    }
   ],
   "source": [
    "name = input('please enter your name: ')\n",
    "count = 0\n",
    "name = name.lower()\n",
    "for x in name:\n",
    "    if x == 'a'or x =='e'or x =='i'or x == 'o'or x == 'u':\n",
    "        count = count + 1\n",
    "        \n",
    "if count == 1:\n",
    "    print(\"There is a vowel in your name!\")\n",
    "else:\n",
    "    \n",
    "    print(\"There are\",count,\"vowels in your name!\")"
   ]
  },
  {
   "cell_type": "code",
   "execution_count": 35,
   "id": "302ddb92",
   "metadata": {},
   "outputs": [
    {
     "name": "stdout",
     "output_type": "stream",
     "text": [
      "please enter a new password: toMy\n",
      "please enter the password again: tomy\n",
      "They must be in the same case!\n"
     ]
    }
   ],
   "source": [
    "password = input('please enter a new password: ')\n",
    "password_check = input('please enter the password again: ')\n",
    "\n",
    "if password == password_check:\n",
    "    print('Thank you')\n",
    "    \n",
    "elif password.lower() == password_check.lower():\n",
    "    print('They must be in the same case!')\n",
    "    \n",
    "else:\n",
    "    print('incorrect!')"
   ]
  },
  {
   "cell_type": "code",
   "execution_count": 36,
   "id": "86f76dd8",
   "metadata": {},
   "outputs": [
    {
     "name": "stdout",
     "output_type": "stream",
     "text": [
      "enter a word: uppercase\n",
      "e\n",
      "s\n",
      "a\n",
      "c\n",
      "r\n",
      "e\n",
      "p\n",
      "p\n",
      "u\n"
     ]
    }
   ],
   "source": [
    "word = input('enter a word: ')\n",
    "length = len(word)\n",
    "num = 1\n",
    "for x in word:\n",
    "    position = length - num\n",
    "    letter = word[position]\n",
    "    print(letter)\n",
    "    num = num + 1"
   ]
  },
  {
   "cell_type": "code",
   "execution_count": null,
   "id": "471f1c41",
   "metadata": {},
   "outputs": [],
   "source": []
  }
 ],
 "metadata": {
  "kernelspec": {
   "display_name": "Python 3 (ipykernel)",
   "language": "python",
   "name": "python3"
  },
  "language_info": {
   "codemirror_mode": {
    "name": "ipython",
    "version": 3
   },
   "file_extension": ".py",
   "mimetype": "text/x-python",
   "name": "python",
   "nbconvert_exporter": "python",
   "pygments_lexer": "ipython3",
   "version": "3.8.8"
  }
 },
 "nbformat": 4,
 "nbformat_minor": 5
}
