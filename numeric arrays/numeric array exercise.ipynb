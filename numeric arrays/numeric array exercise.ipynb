{
 "cells": [
  {
   "cell_type": "markdown",
   "id": "6c33ae55",
   "metadata": {},
   "source": [
    "Arrays are like lists except they can only store numbers. They can store interger, long number, floating point, and doubles.\n"
   ]
  },
  {
   "cell_type": "code",
   "execution_count": 3,
   "id": "e368989f",
   "metadata": {},
   "outputs": [],
   "source": [
    "from array import *\n",
    "#imports the array library"
   ]
  },
  {
   "cell_type": "code",
   "execution_count": 4,
   "id": "6425d6f6",
   "metadata": {},
   "outputs": [
    {
     "name": "stdout",
     "output_type": "stream",
     "text": [
      "array('i', [45, 423, 654, 45, 264])\n"
     ]
    }
   ],
   "source": [
    "nums = array ('i',[45,423,654,45,264])\n",
    "print(nums)"
   ]
  },
  {
   "cell_type": "code",
   "execution_count": 5,
   "id": "d5833bf6",
   "metadata": {},
   "outputs": [
    {
     "name": "stdout",
     "output_type": "stream",
     "text": [
      "45\n",
      "423\n",
      "654\n",
      "45\n",
      "264\n"
     ]
    }
   ],
   "source": [
    "for x in nums:\n",
    "    print(x)"
   ]
  },
  {
   "cell_type": "code",
   "execution_count": 6,
   "id": "3e461564",
   "metadata": {},
   "outputs": [
    {
     "name": "stdout",
     "output_type": "stream",
     "text": [
      "enter a number: 555\n"
     ]
    }
   ],
   "source": [
    "newValue = int(input('enter a number: '))\n",
    "nums.append(newValue)"
   ]
  },
  {
   "cell_type": "code",
   "execution_count": 8,
   "id": "ce9aa36d",
   "metadata": {},
   "outputs": [],
   "source": [
    "nums.reverse()\n",
    "#reverse the array order"
   ]
  },
  {
   "cell_type": "code",
   "execution_count": 9,
   "id": "831f4c77",
   "metadata": {},
   "outputs": [],
   "source": [
    "nums = sorted(nums)\n",
    "#sorts the array in ascending order"
   ]
  },
  {
   "cell_type": "code",
   "execution_count": 10,
   "id": "34d35bf2",
   "metadata": {},
   "outputs": [
    {
     "data": {
      "text/plain": [
       "654"
      ]
     },
     "execution_count": 10,
     "metadata": {},
     "output_type": "execute_result"
    }
   ],
   "source": [
    "nums.pop()\n",
    "#remove the last item in the array"
   ]
  },
  {
   "cell_type": "code",
   "execution_count": 12,
   "id": "f6bb4254",
   "metadata": {},
   "outputs": [
    {
     "name": "stdout",
     "output_type": "stream",
     "text": [
      "How many items? 10\n",
      "Enter num: 1\n",
      "Enter num: 2\n",
      "Enter num: 3\n",
      "Enter num: 4\n",
      "Enter num: 5\n",
      "Enter num: 6\n",
      "Enter num: 7\n",
      "Enter num: 8\n",
      "Enter num: 9\n",
      "Enter num: 10\n",
      "array('i', [1, 2, 3, 4, 5, 6, 7, 8, 9, 10])\n"
     ]
    }
   ],
   "source": [
    "newArray = array('i',[])\n",
    "more = int(input('How many items? '))\n",
    "for y in range (0,more):\n",
    "    newValue=int(input('Enter num: '))\n",
    "    newArray.append(newValue)\n",
    "nums.extend(newArray)\n",
    "print(newArray)"
   ]
  },
  {
   "cell_type": "code",
   "execution_count": 13,
   "id": "713e4427",
   "metadata": {},
   "outputs": [
    {
     "name": "stdout",
     "output_type": "stream",
     "text": [
      "Enter item index: 2\n"
     ]
    }
   ],
   "source": [
    "getRid = int(input(\"Enter item index: \"))\n",
    "nums.remove(getRid)\n",
    "\n",
    "#removes the FIRST number that MATCHES the entered value."
   ]
  },
  {
   "cell_type": "code",
   "execution_count": 14,
   "id": "aa6d2c6c",
   "metadata": {},
   "outputs": [
    {
     "name": "stdout",
     "output_type": "stream",
     "text": [
      "2\n"
     ]
    }
   ],
   "source": [
    "print(nums.count(45))\n",
    "#displays the times the value \"45\" appeared in the array"
   ]
  },
  {
   "cell_type": "code",
   "execution_count": null,
   "id": "b93ab995",
   "metadata": {},
   "outputs": [],
   "source": [
    "entry = int(input('please enter an integer: '))"
   ]
  }
 ],
 "metadata": {
  "kernelspec": {
   "display_name": "Python 3",
   "language": "python",
   "name": "python3"
  },
  "language_info": {
   "codemirror_mode": {
    "name": "ipython",
    "version": 3
   },
   "file_extension": ".py",
   "mimetype": "text/x-python",
   "name": "python",
   "nbconvert_exporter": "python",
   "pygments_lexer": "ipython3",
   "version": "3.8.8"
  }
 },
 "nbformat": 4,
 "nbformat_minor": 5
}
