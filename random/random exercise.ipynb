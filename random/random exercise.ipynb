{
 "cells": [
  {
   "cell_type": "code",
   "execution_count": 5,
   "id": "178e4f1a",
   "metadata": {},
   "outputs": [
    {
     "name": "stdout",
     "output_type": "stream",
     "text": [
      "0.0971822355914096\n"
     ]
    }
   ],
   "source": [
    "import random\n",
    "\n",
    "num = random.random()\n",
    "print(num)"
   ]
  },
  {
   "cell_type": "code",
   "execution_count": 6,
   "id": "68091da8",
   "metadata": {},
   "outputs": [
    {
     "name": "stdout",
     "output_type": "stream",
     "text": [
      "6\n"
     ]
    }
   ],
   "source": [
    "num = random.randint(0,9)\n",
    "print(num)"
   ]
  },
  {
   "cell_type": "code",
   "execution_count": 7,
   "id": "e8278009",
   "metadata": {},
   "outputs": [
    {
     "name": "stdout",
     "output_type": "stream",
     "text": [
      "2.853896103896104\n"
     ]
    }
   ],
   "source": [
    "num1 = random.randint(0,1000)\n",
    "num2 = random.randint(0,1000)\n",
    "newrand = num1/num2\n",
    "print(newrand)"
   ]
  },
  {
   "cell_type": "code",
   "execution_count": 8,
   "id": "05cf7d4d",
   "metadata": {},
   "outputs": [
    {
     "name": "stdout",
     "output_type": "stream",
     "text": [
      "50\n"
     ]
    }
   ],
   "source": [
    "num = random.randrange(0,100,5)\n",
    "print(num)"
   ]
  },
  {
   "cell_type": "code",
   "execution_count": 9,
   "id": "0e41d957",
   "metadata": {},
   "outputs": [
    {
     "name": "stdout",
     "output_type": "stream",
     "text": [
      "black\n"
     ]
    }
   ],
   "source": [
    "colour = random.choice(['red','black','green'])\n",
    "print(colour)"
   ]
  },
  {
   "cell_type": "code",
   "execution_count": 10,
   "id": "62c9415f",
   "metadata": {},
   "outputs": [
    {
     "name": "stdout",
     "output_type": "stream",
     "text": [
      "27\n"
     ]
    }
   ],
   "source": [
    "num = random.randint(1,100)\n",
    "print(num)"
   ]
  },
  {
   "cell_type": "code",
   "execution_count": 11,
   "id": "84e1b3ea",
   "metadata": {},
   "outputs": [
    {
     "name": "stdout",
     "output_type": "stream",
     "text": [
      "strawberry\n"
     ]
    }
   ],
   "source": [
    "fruit = random.choice(['apple','orange','banana','strawberry','pineapple'])\n",
    "print(fruit)"
   ]
  },
  {
   "cell_type": "code",
   "execution_count": 19,
   "id": "43a70650",
   "metadata": {},
   "outputs": [
    {
     "name": "stdout",
     "output_type": "stream",
     "text": [
      "heads or tails? heads\n",
      "wrong!\n",
      "heads or tails?tails\n",
      "well done!\n",
      "it was tails !\n"
     ]
    }
   ],
   "source": [
    "guess = input('heads or tails? ')\n",
    "coin = random.choice(['heads','tails'])\n",
    "\n",
    "while coin != guess:\n",
    "    print('wrong!')\n",
    "    guess = input('heads or tails?')\n",
    "\n",
    "print('well done!')\n",
    "print('it was',coin,'!')"
   ]
  },
  {
   "cell_type": "code",
   "execution_count": 28,
   "id": "cfd5af8e",
   "metadata": {},
   "outputs": [
    {
     "name": "stdout",
     "output_type": "stream",
     "text": [
      "pick a number between 1 and 10: 5\n",
      "too low!\n",
      "pick a number between 1 and 10: 9\n",
      "too high!\n",
      "pick a number between 1 and 10: 7\n",
      "too low!\n",
      "pick a number between 1 and 10: 8\n",
      "well done!\n"
     ]
    }
   ],
   "source": [
    "guess = int(input('pick a number between 1 and 10: '))\n",
    "num = random.randint(1,10)\n",
    "\n",
    "while guess != num:\n",
    "    if guess > num:\n",
    "        print('too high!')\n",
    "        guess = int(input('pick a number between 1 and 10: '))\n",
    "    elif guess < num:\n",
    "        print('too low!')\n",
    "        guess = int(input('pick a number between 1 and 10: '))\n",
    "\n",
    "print('well done!')"
   ]
  },
  {
   "cell_type": "code",
   "execution_count": 30,
   "id": "772e6bae",
   "metadata": {},
   "outputs": [
    {
     "name": "stdout",
     "output_type": "stream",
     "text": [
      "pick a number from 1 to 10: 1\n",
      "pick again!2\n",
      "pick again!3\n",
      "pick again!4\n",
      "pick again!5\n",
      "pick again!6\n",
      "pick again!7\n",
      "that's it!!\n"
     ]
    }
   ],
   "source": [
    "num = random.randint(1,10)\n",
    "guess = int(input('pick a number from 1 to 10: '))\n",
    "\n",
    "while guess != num:\n",
    "    guess = int(input('pick again! '))\n",
    "    \n",
    "print(\"that's it!!\")    "
   ]
  },
  {
   "cell_type": "code",
   "execution_count": 31,
   "id": "e9256b32",
   "metadata": {},
   "outputs": [
    {
     "name": "stdout",
     "output_type": "stream",
     "text": [
      "pick a number from 1 to 10: 1\n",
      "too low!\n",
      "pick again! 1\n",
      "too low!\n",
      "pick again! 2\n",
      "too low!\n",
      "pick again! 3\n",
      "too low!\n",
      "pick again! 4\n",
      "too low!\n",
      "pick again! 5\n",
      "too low!\n",
      "pick again! 6\n",
      "too low!\n",
      "pick again! 9\n",
      "too low!\n",
      "pick again! 10\n",
      "that's it!!\n"
     ]
    }
   ],
   "source": [
    "num = random.randint(1,10)\n",
    "guess = int(input('pick a number from 1 to 10: '))\n",
    "\n",
    "while guess != num:\n",
    "    if guess > num:\n",
    "        print('too high!!')\n",
    "        guess = int(input('pick again! '))\n",
    "    elif guess < num:\n",
    "        print('too low!')\n",
    "        guess = int(input('pick again! '))\n",
    "        \n",
    "print(\"that's it!!\")    "
   ]
  },
  {
   "cell_type": "code",
   "execution_count": 3,
   "id": "7dae3369",
   "metadata": {},
   "outputs": [
    {
     "name": "stdout",
     "output_type": "stream",
     "text": [
      "What's the total of 4861 plus 9627 ?\n",
      "Answer? 1\n",
      "What's the total of 5013 plus 6533 ?\n",
      "Answer? 1\n",
      "What's the total of 3960 plus 1001 ?\n",
      "Answer? 1\n",
      "What's the total of 3784 plus 5116 ?\n",
      "Answer? 1\n",
      "What's the total of 6284 plus 9816 ?\n",
      "Answer? 1\n",
      "You got 0 out of 5 correct!\n"
     ]
    }
   ],
   "source": [
    "import random\n",
    "score = 0\n",
    "\n",
    "for i in range(1,6):\n",
    "    num1 = random.randint(0,10000)\n",
    "    num2 = random.randint(0,10000)\n",
    "    correct = num1 + num2\n",
    "    print(\"What's the total of\", num1,\"plus\",num2,\"?\")\n",
    "    answer = int(input(\"Answer? \"))\n",
    "    if answer == correct:\n",
    "        score = score + 1\n",
    "print('You got',score,'out of 5 correct!')"
   ]
  },
  {
   "cell_type": "code",
   "execution_count": 5,
   "id": "dda106e6",
   "metadata": {},
   "outputs": [
    {
     "name": "stdout",
     "output_type": "stream",
     "text": [
      "red white blue green black\n",
      "Please pick one: green\n",
      "Is it just me, or is that a BIG BLACK MOLE on your face!\n",
      "Please pick one: black\n",
      "nice pick!\n"
     ]
    }
   ],
   "source": [
    "print('red','white','blue','green','black')\n",
    "choice = input('Please pick one: ')\n",
    "color = random.choice(['red','white','blue','green','black'])\n",
    "\n",
    "while color != choice:\n",
    "    if color == 'red':\n",
    "        print('your face must be RED!')\n",
    "    elif color == 'white':\n",
    "        print('Just look at the color of that BIG FLUFFY WHITE CLOUD!')\n",
    "    elif color == 'blue':\n",
    "        print('You are probably feeling BLUE right now!')\n",
    "    elif color == 'green':\n",
    "        print('I bet you are GREEN with envy!')\n",
    "    elif color == 'black':\n",
    "        print('Is it just me, or is that a BIG BLACK MOLE on your face!')\n",
    "    choice = input('Please pick one: ')   \n",
    "    if color == choice:\n",
    "        print('nice pick!')"
   ]
  },
  {
   "cell_type": "code",
   "execution_count": null,
   "id": "c731cc5a",
   "metadata": {},
   "outputs": [],
   "source": []
  }
 ],
 "metadata": {
  "kernelspec": {
   "display_name": "Python 3 (ipykernel)",
   "language": "python",
   "name": "python3"
  },
  "language_info": {
   "codemirror_mode": {
    "name": "ipython",
    "version": 3
   },
   "file_extension": ".py",
   "mimetype": "text/x-python",
   "name": "python",
   "nbconvert_exporter": "python",
   "pygments_lexer": "ipython3",
   "version": "3.8.8"
  }
 },
 "nbformat": 4,
 "nbformat_minor": 5
}
