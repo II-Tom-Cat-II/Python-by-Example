{
 "cells": [
  {
   "cell_type": "code",
   "execution_count": 3,
   "id": "287f4bdf",
   "metadata": {},
   "outputs": [
    {
     "name": "stdout",
     "output_type": "stream",
     "text": [
      "Before -1\n",
      "9 9\n",
      "41 41\n",
      "41 12\n",
      "41 3\n",
      "74 74\n",
      "74 15\n",
      "After 74\n"
     ]
    }
   ],
   "source": [
    "## Find the smallest value\n",
    "\n",
    "largest_so_far = -1\n",
    "print('Before', largest_so_far)\n",
    "for the_num in [9,41,12,3,74,15]:\n",
    "    if the_num > largest_so_far:\n",
    "        largest_so_far = the_num\n",
    "    print(largest_so_far, the_num)\n",
    "    \n",
    "print('After', largest_so_far)"
   ]
  },
  {
   "cell_type": "code",
   "execution_count": 4,
   "id": "e0164030",
   "metadata": {},
   "outputs": [
    {
     "name": "stdout",
     "output_type": "stream",
     "text": [
      "Enter a number: 1\n",
      "Enter a number: 2\n",
      "Enter a number: 3\n",
      "Enter a number: gh\n",
      "Invalid input\n",
      "Enter a number: dgfh\n",
      "Invalid input\n",
      "Enter a number: 6\n",
      "Enter a number: 5\n",
      "Enter a number: done\n",
      "ALL DONE\n",
      "17.0 5 3.4\n"
     ]
    }
   ],
   "source": [
    "num = 0\n",
    "tot = 0.0\n",
    "\n",
    "while True:\n",
    "    sval = input('Enter a number: ')\n",
    "    if sval == 'done':\n",
    "        print('ALL DONE')\n",
    "        break\n",
    "    try:\n",
    "        fval = float(sval)\n",
    "    except:\n",
    "        print('Invalid input')\n",
    "        continue\n",
    "    #print(fval)\n",
    "    num = num + 1\n",
    "    tot = tot + fval\n",
    "    \n",
    "#print('All DONE')\n",
    "print(tot, num, tot/num)"
   ]
  },
  {
   "cell_type": "code",
   "execution_count": null,
   "id": "3722b473",
   "metadata": {},
   "outputs": [],
   "source": []
  }
 ],
 "metadata": {
  "kernelspec": {
   "display_name": "Python 3",
   "language": "python",
   "name": "python3"
  },
  "language_info": {
   "codemirror_mode": {
    "name": "ipython",
    "version": 3
   },
   "file_extension": ".py",
   "mimetype": "text/x-python",
   "name": "python",
   "nbconvert_exporter": "python",
   "pygments_lexer": "ipython3",
   "version": "3.8.8"
  }
 },
 "nbformat": 4,
 "nbformat_minor": 5
}
