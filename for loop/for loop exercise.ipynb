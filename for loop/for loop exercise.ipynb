{
 "cells": [
  {
   "cell_type": "markdown",
   "id": "add84c53",
   "metadata": {},
   "source": [
    "Print numbers until it reaches 10"
   ]
  },
  {
   "cell_type": "code",
   "execution_count": 2,
   "id": "02d7360b",
   "metadata": {},
   "outputs": [
    {
     "name": "stdout",
     "output_type": "stream",
     "text": [
      "1\n",
      "2\n",
      "3\n",
      "4\n",
      "5\n",
      "6\n",
      "7\n",
      "8\n",
      "9\n"
     ]
    }
   ],
   "source": [
    "for i in range(1,10):\n",
    "    print(i)"
   ]
  },
  {
   "cell_type": "markdown",
   "id": "7fad4d1a",
   "metadata": {},
   "source": [
    "Print numbers while adding specified number"
   ]
  },
  {
   "cell_type": "code",
   "execution_count": 4,
   "id": "8ba3e849",
   "metadata": {},
   "outputs": [
    {
     "name": "stdout",
     "output_type": "stream",
     "text": [
      "1\n",
      "3\n",
      "5\n",
      "7\n",
      "9\n"
     ]
    }
   ],
   "source": [
    "for i in range(1,10,2):\n",
    "    print(i)"
   ]
  },
  {
   "cell_type": "markdown",
   "id": "22e71f13",
   "metadata": {},
   "source": [
    "The number will keep on adding one until the specified range is fufilled"
   ]
  },
  {
   "cell_type": "code",
   "execution_count": 7,
   "id": "45a64289",
   "metadata": {},
   "outputs": [
    {
     "name": "stdout",
     "output_type": "stream",
     "text": [
      "10\n",
      "7\n",
      "4\n"
     ]
    }
   ],
   "source": [
    "for i in range(10,1,-3):\n",
    "    print(i)"
   ]
  },
  {
   "cell_type": "markdown",
   "id": "bd7db956",
   "metadata": {},
   "source": [
    "The number will subtract if specified number is negative"
   ]
  },
  {
   "cell_type": "code",
   "execution_count": 9,
   "id": "c3d6fa06",
   "metadata": {},
   "outputs": [
    {
     "name": "stdout",
     "output_type": "stream",
     "text": [
      "w\n",
      "o\n",
      "r\n",
      "d\n"
     ]
    }
   ],
   "source": [
    "for i in \"word\":\n",
    "    print(i)"
   ]
  },
  {
   "cell_type": "code",
   "execution_count": 12,
   "id": "51e1ccdf",
   "metadata": {},
   "outputs": [
    {
     "name": "stdout",
     "output_type": "stream",
     "text": [
      "Please enter your nameTom\n",
      "Tom\n",
      "Tom\n",
      "Tom\n"
     ]
    }
   ],
   "source": [
    "name = input(\"Please enter your name\")\n",
    "\n",
    "for i in range(1,4):\n",
    "    print(name)"
   ]
  },
  {
   "cell_type": "code",
   "execution_count": null,
   "id": "152cab6f",
   "metadata": {},
   "outputs": [],
   "source": []
  }
 ],
 "metadata": {
  "kernelspec": {
   "display_name": "Python 3 (ipykernel)",
   "language": "python",
   "name": "python3"
  },
  "language_info": {
   "codemirror_mode": {
    "name": "ipython",
    "version": 3
   },
   "file_extension": ".py",
   "mimetype": "text/x-python",
   "name": "python",
   "nbconvert_exporter": "python",
   "pygments_lexer": "ipython3",
   "version": "3.8.8"
  }
 },
 "nbformat": 4,
 "nbformat_minor": 5
}
