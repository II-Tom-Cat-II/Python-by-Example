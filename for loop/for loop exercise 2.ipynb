{
 "cells": [
  {
   "cell_type": "code",
   "execution_count": 4,
   "id": "8a9b0a2a",
   "metadata": {},
   "outputs": [
    {
     "name": "stdout",
     "output_type": "stream",
     "text": [
      "Please enter your name Tom\n",
      "Please enter printed amount 3\n",
      "Tom\n",
      "Tom\n",
      "Tom\n"
     ]
    }
   ],
   "source": [
    "name = input('Please enter your name ')\n",
    "loop = int(input('Please enter printed amount '))\n",
    "\n",
    "for i in range(0,loop):\n",
    "    print(name)"
   ]
  },
  {
   "cell_type": "code",
   "execution_count": 10,
   "id": "bde4b876",
   "metadata": {},
   "outputs": [
    {
     "name": "stdout",
     "output_type": "stream",
     "text": [
      "Please enter your name Tom\n",
      "Please enter printed amount 3\n",
      "T\n",
      "o\n",
      "m\n",
      "T\n",
      "o\n",
      "m\n",
      "T\n",
      "o\n",
      "m\n"
     ]
    }
   ],
   "source": [
    "name = input('Please enter your name ')\n",
    "loop = int(input('Please enter printed amount '))\n",
    "for i in range(0,loop):\n",
    "    for i in name:\n",
    "        print(i)"
   ]
  },
  {
   "cell_type": "code",
   "execution_count": 11,
   "id": "51296cc4",
   "metadata": {},
   "outputs": [
    {
     "name": "stdout",
     "output_type": "stream",
     "text": [
      "please input a number from 1 to 122\n",
      "2\n",
      "4\n",
      "6\n",
      "8\n",
      "10\n",
      "12\n",
      "14\n",
      "16\n",
      "18\n",
      "20\n",
      "22\n",
      "24\n"
     ]
    }
   ],
   "source": [
    "num = int(input('please input a number from 1 to 12'))\n",
    "\n",
    "for i in range(1,13):\n",
    "    print(i*num)"
   ]
  },
  {
   "cell_type": "code",
   "execution_count": 12,
   "id": "b7ff88d5",
   "metadata": {},
   "outputs": [
    {
     "name": "stdout",
     "output_type": "stream",
     "text": [
      "please input a number from 1 to 124\n",
      "1 x 4 = 4\n",
      "2 x 4 = 8\n",
      "3 x 4 = 12\n",
      "4 x 4 = 16\n",
      "5 x 4 = 20\n",
      "6 x 4 = 24\n",
      "7 x 4 = 28\n",
      "8 x 4 = 32\n",
      "9 x 4 = 36\n",
      "10 x 4 = 40\n",
      "11 x 4 = 44\n",
      "12 x 4 = 48\n"
     ]
    }
   ],
   "source": [
    "num = int(input('please input a number from 1 to 12'))\n",
    "\n",
    "for i in range(1,13):\n",
    "    ans = i * num\n",
    "    print(i,'x', num, '=',ans)"
   ]
  },
  {
   "cell_type": "code",
   "execution_count": 13,
   "id": "cf47c1fd",
   "metadata": {},
   "outputs": [
    {
     "name": "stdout",
     "output_type": "stream",
     "text": [
      "Please enter a number below 5050\n"
     ]
    }
   ],
   "source": [
    "x = int(input('Please enter a number below 50'))\n",
    "\n",
    "for i in range(50,x,-1):\n",
    "    print(i)"
   ]
  },
  {
   "cell_type": "code",
   "execution_count": 3,
   "id": "eafc8a1f",
   "metadata": {},
   "outputs": [
    {
     "name": "stdout",
     "output_type": "stream",
     "text": [
      "Please enter your name : Tom\n",
      "Please enter a number under 10 : 21\n",
      "Too high\n",
      "Too high\n",
      "Too high\n"
     ]
    }
   ],
   "source": [
    "x = input('Please enter your name : ')\n",
    "y = int(input('Please enter a number under 10 : '))\n",
    "\n",
    "if y <= 10:\n",
    "    for i in range(0, y):\n",
    "        print(x)\n",
    "else:\n",
    "    for i in range(0,3):\n",
    "        print('Too high')"
   ]
  },
  {
   "cell_type": "code",
   "execution_count": 17,
   "id": "2eadf7c8",
   "metadata": {},
   "outputs": [
    {
     "name": "stdout",
     "output_type": "stream",
     "text": [
      "Please enter a number : 1\n",
      "Add to the total? y\n",
      "Please enter a number : 1\n",
      "Add to the total? y\n",
      "Please enter a number : 1\n",
      "Add to the total? y\n",
      "Please enter a number : 1\n",
      "Add to the total? y\n",
      "Please enter a number : 1\n",
      "Add to the total? n\n",
      "4\n"
     ]
    }
   ],
   "source": [
    "total = 0\n",
    "\n",
    "for i in range(0,5):\n",
    "    x = int(input('Please enter a number : '))\n",
    "    add = input('Add to the total? ')\n",
    "    if add == 'y':\n",
    "        total = total + x\n",
    "print(total)"
   ]
  },
  {
   "cell_type": "code",
   "execution_count": 22,
   "id": "ee369c38",
   "metadata": {},
   "outputs": [
    {
     "name": "stdout",
     "output_type": "stream",
     "text": [
      "count up or down?side\n",
      "I dont understand\n"
     ]
    }
   ],
   "source": [
    "dir = input('count up or down?')\n",
    "\n",
    "if dir == 'up':\n",
    "    top = int(input('whats the top number? '))\n",
    "    for i in range(1,top):\n",
    "        print(i)\n",
    "elif dir == 'down':\n",
    "    num = int(input('enter a number under 20 : '))\n",
    "    for i in range(20, num,-1):\n",
    "        print(i)\n",
    "else:\n",
    "    print('I dont understand')"
   ]
  },
  {
   "cell_type": "code",
   "execution_count": 23,
   "id": "53c8e0b3",
   "metadata": {},
   "outputs": [
    {
     "name": "stdout",
     "output_type": "stream",
     "text": [
      "How many peeps? 10\n",
      "Enter the guest name : Tom\n",
      "Tom has been invited\n",
      "Enter the guest name : Mary\n",
      "Mary has been invited\n",
      "Enter the guest name : Jack\n",
      "Jack has been invited\n",
      "Enter the guest name : Jason\n",
      "Jason has been invited\n",
      "Enter the guest name : Terry\n",
      "Terry has been invited\n",
      "Enter the guest name : Jack\n",
      "Jack has been invited\n",
      "Enter the guest name : Steven\n",
      "Steven has been invited\n",
      "Enter the guest name : Todd\n",
      "Todd has been invited\n",
      "Enter the guest name : Ken\n",
      "Ken has been invited\n",
      "Enter the guest name : Sawyer\n",
      "Sawyer has been invited\n"
     ]
    }
   ],
   "source": [
    "peeps = int(input('How many peeps? '))\n",
    "\n",
    "if peeps <= 10:\n",
    "    for i in range(0,peeps):\n",
    "        gst_nme = input('Enter the guest name : ')\n",
    "        print(gst_nme, 'has been invited')"
   ]
  },
  {
   "cell_type": "code",
   "execution_count": null,
   "id": "3bbad924",
   "metadata": {},
   "outputs": [],
   "source": []
  }
 ],
 "metadata": {
  "kernelspec": {
   "display_name": "Python 3 (ipykernel)",
   "language": "python",
   "name": "python3"
  },
  "language_info": {
   "codemirror_mode": {
    "name": "ipython",
    "version": 3
   },
   "file_extension": ".py",
   "mimetype": "text/x-python",
   "name": "python",
   "nbconvert_exporter": "python",
   "pygments_lexer": "ipython3",
   "version": "3.8.8"
  }
 },
 "nbformat": 4,
 "nbformat_minor": 5
}
